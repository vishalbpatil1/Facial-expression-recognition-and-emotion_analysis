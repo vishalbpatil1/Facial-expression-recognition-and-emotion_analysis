{
 "cells": [
  {
   "cell_type": "code",
   "execution_count": 1,
   "metadata": {
    "colab": {
     "base_uri": "https://localhost:8080/",
     "height": 122
    },
    "colab_type": "code",
    "executionInfo": {
     "elapsed": 38649,
     "status": "ok",
     "timestamp": 1582741117341,
     "user": {
      "displayName": "VISHAL PATIL",
      "photoUrl": "https://lh3.googleusercontent.com/a-/AAuE7mBP_mBGErnznHqgGOCMji_Vduvj-Z9Oq7CJzoEH=s64",
      "userId": "05327237884246247525"
     },
     "user_tz": -330
    },
    "id": "kqdJ3g5fArNk",
    "outputId": "74af2772-71f3-4dac-d295-568c22be580f"
   },
   "outputs": [
    {
     "name": "stdout",
     "output_type": "stream",
     "text": [
      "Go to this URL in a browser: https://accounts.google.com/o/oauth2/auth?client_id=947318989803-6bn6qk8qdgf4n4g3pfee6491hc0brc4i.apps.googleusercontent.com&redirect_uri=urn%3aietf%3awg%3aoauth%3a2.0%3aoob&response_type=code&scope=email%20https%3a%2f%2fwww.googleapis.com%2fauth%2fdocs.test%20https%3a%2f%2fwww.googleapis.com%2fauth%2fdrive%20https%3a%2f%2fwww.googleapis.com%2fauth%2fdrive.photos.readonly%20https%3a%2f%2fwww.googleapis.com%2fauth%2fpeopleapi.readonly\n",
      "\n",
      "Enter your authorization code:\n",
      "··········\n",
      "Mounted at /content/drive\n"
     ]
    }
   ],
   "source": [
    "from google.colab import drive\n",
    "drive.mount('/content/drive')"
   ]
  },
  {
   "cell_type": "code",
   "execution_count": 2,
   "metadata": {
    "colab": {
     "base_uri": "https://localhost:8080/",
     "height": 80
    },
    "colab_type": "code",
    "executionInfo": {
     "elapsed": 39972,
     "status": "ok",
     "timestamp": 1582741118674,
     "user": {
      "displayName": "VISHAL PATIL",
      "photoUrl": "https://lh3.googleusercontent.com/a-/AAuE7mBP_mBGErnznHqgGOCMji_Vduvj-Z9Oq7CJzoEH=s64",
      "userId": "05327237884246247525"
     },
     "user_tz": -330
    },
    "id": "AqrZVNrr36wP",
    "outputId": "9bb68123-8196-4869-9795-d71a7a678c2d"
   },
   "outputs": [
    {
     "name": "stderr",
     "output_type": "stream",
     "text": [
      "Using TensorFlow backend.\n"
     ]
    },
    {
     "data": {
      "text/html": [
       "<p style=\"color: red;\">\n",
       "The default version of TensorFlow in Colab will soon switch to TensorFlow 2.x.<br>\n",
       "We recommend you <a href=\"https://www.tensorflow.org/guide/migrate\" target=\"_blank\">upgrade</a> now \n",
       "or ensure your notebook will continue to use TensorFlow 1.x via the <code>%tensorflow_version 1.x</code> magic:\n",
       "<a href=\"https://colab.research.google.com/notebooks/tensorflow_version.ipynb\" target=\"_blank\">more info</a>.</p>\n"
      ],
      "text/plain": [
       "<IPython.core.display.HTML object>"
      ]
     },
     "metadata": {
      "tags": []
     },
     "output_type": "display_data"
    }
   ],
   "source": [
    "import keras\n",
    "import pandas as pd\n",
    "import tensorflow as tf\n",
    "import numpy as np\n",
    "import matplotlib.pyplot as plt\n",
    "from keras.preprocessing import image\n",
    "from keras.preprocessing.image import ImageDataGenerator\n",
    "from keras.utils import np_utils"
   ]
  },
  {
   "cell_type": "code",
   "execution_count": 0,
   "metadata": {
    "colab": {},
    "colab_type": "code",
    "id": "SYcQnjxg_ysY"
   },
   "outputs": [],
   "source": []
  },
  {
   "cell_type": "code",
   "execution_count": 3,
   "metadata": {
    "colab": {
     "base_uri": "https://localhost:8080/",
     "height": 306
    },
    "colab_type": "code",
    "executionInfo": {
     "elapsed": 8407,
     "status": "ok",
     "timestamp": 1582741127956,
     "user": {
      "displayName": "VISHAL PATIL",
      "photoUrl": "https://lh3.googleusercontent.com/a-/AAuE7mBP_mBGErnznHqgGOCMji_Vduvj-Z9Oq7CJzoEH=s64",
      "userId": "05327237884246247525"
     },
     "user_tz": -330
    },
    "id": "-W8TsIdh36wy",
    "outputId": "703e5eb6-06fe-43a0-f203-71e6cf7cd327"
   },
   "outputs": [
    {
     "name": "stdout",
     "output_type": "stream",
     "text": [
      "<class 'pandas.core.frame.DataFrame'>\n",
      "RangeIndex: 16744 entries, 0 to 16743\n",
      "Data columns (total 3 columns):\n",
      "emotion    16744 non-null int64\n",
      "Usage1     16744 non-null object\n",
      "pixels1    16744 non-null object\n",
      "dtypes: int64(1), object(2)\n",
      "memory usage: 392.6+ KB\n",
      "<class 'pandas.core.frame.DataFrame'>\n",
      "RangeIndex: 4144 entries, 0 to 4143\n",
      "Data columns (total 4 columns):\n",
      "Unnamed: 0    4059 non-null float64\n",
      "emotion       4144 non-null int64\n",
      "Usage1        4144 non-null object\n",
      "pixels1       4144 non-null object\n",
      "dtypes: float64(1), int64(1), object(2)\n",
      "memory usage: 129.6+ KB\n"
     ]
    }
   ],
   "source": [
    "data_train=pd.read_csv('/content/drive/My Drive/fer2013_train_new1.csv')\n",
    "data_test=pd.read_csv('/content/drive/My Drive/fer2013_test_new1.csv')\n",
    "data_train.info()\n",
    "data_test.info()"
   ]
  },
  {
   "cell_type": "code",
   "execution_count": 0,
   "metadata": {
    "colab": {},
    "colab_type": "code",
    "id": "XrqFgQN07ymx"
   },
   "outputs": [],
   "source": [
    "classdist=data_train['emotion'].value_counts()"
   ]
  },
  {
   "cell_type": "code",
   "execution_count": 5,
   "metadata": {
    "colab": {
     "base_uri": "https://localhost:8080/",
     "height": 153
    },
    "colab_type": "code",
    "executionInfo": {
     "elapsed": 1886,
     "status": "ok",
     "timestamp": 1582741136512,
     "user": {
      "displayName": "VISHAL PATIL",
      "photoUrl": "https://lh3.googleusercontent.com/a-/AAuE7mBP_mBGErnznHqgGOCMji_Vduvj-Z9Oq7CJzoEH=s64",
      "userId": "05327237884246247525"
     },
     "user_tz": -330
    },
    "id": "rFTx-iPzCoYP",
    "outputId": "b9e6f29f-45d0-4766-db11-c7628f769384"
   },
   "outputs": [
    {
     "data": {
      "text/plain": [
       "3    5886\n",
       "6    2984\n",
       "5    2439\n",
       "0    2166\n",
       "4    1987\n",
       "2     839\n",
       "1     443\n",
       "Name: emotion, dtype: int64"
      ]
     },
     "execution_count": 5,
     "metadata": {
      "tags": []
     },
     "output_type": "execute_result"
    }
   ],
   "source": [
    "#classdistribution in train data\n",
    "classdist"
   ]
  },
  {
   "cell_type": "code",
   "execution_count": 0,
   "metadata": {
    "colab": {
     "base_uri": "https://localhost:8080/",
     "height": 279
    },
    "colab_type": "code",
    "executionInfo": {
     "elapsed": 1221,
     "status": "ok",
     "timestamp": 1582732575540,
     "user": {
      "displayName": "VISHAL PATIL",
      "photoUrl": "https://lh3.googleusercontent.com/a-/AAuE7mBP_mBGErnznHqgGOCMji_Vduvj-Z9Oq7CJzoEH=s64",
      "userId": "05327237884246247525"
     },
     "user_tz": -330
    },
    "id": "YSF4xhZE_vLz",
    "outputId": "c7e2c636-24dd-45a5-d74b-b77d8d06c758"
   },
   "outputs": [
    {
     "data": {
      "text/plain": [
       "<matplotlib.axes._subplots.AxesSubplot at 0x7ff5cd8b93c8>"
      ]
     },
     "execution_count": 7,
     "metadata": {
      "tags": []
     },
     "output_type": "execute_result"
    },
    {
     "data": {
      "image/png": "[encoded data removed]",
      "text/plain": [
       "<Figure size 432x288 with 1 Axes>"
      ]
     },
     "metadata": {
      "tags": []
     },
     "output_type": "display_data"
    }
   ],
   "source": [
    "classdist. plot(kind='bar')"
   ]
  },
  {
   "cell_type": "code",
   "execution_count": 0,
   "metadata": {
    "colab": {},
    "colab_type": "code",
    "id": "pMydYLEwASiL"
   },
   "outputs": [],
   "source": [
    "classdist1=data_test['emotion'].value_counts()"
   ]
  },
  {
   "cell_type": "code",
   "execution_count": 0,
   "metadata": {
    "colab": {
     "base_uri": "https://localhost:8080/",
     "height": 153
    },
    "colab_type": "code",
    "executionInfo": {
     "elapsed": 813,
     "status": "ok",
     "timestamp": 1582732583520,
     "user": {
      "displayName": "VISHAL PATIL",
      "photoUrl": "https://lh3.googleusercontent.com/a-/AAuE7mBP_mBGErnznHqgGOCMji_Vduvj-Z9Oq7CJzoEH=s64",
      "userId": "05327237884246247525"
     },
     "user_tz": -330
    },
    "id": "5e8aNvZnDM4Z",
    "outputId": "b546f72c-b666-4ef2-d55f-1401023a9e3c"
   },
   "outputs": [
    {
     "data": {
      "text/plain": [
       "3    1441\n",
       "6     747\n",
       "5     657\n",
       "0     508\n",
       "4     485\n",
       "2     217\n",
       "1      89\n",
       "Name: emotion, dtype: int64"
      ]
     },
     "execution_count": 9,
     "metadata": {
      "tags": []
     },
     "output_type": "execute_result"
    }
   ],
   "source": [
    "#class distribution in test data\n",
    "classdist1"
   ]
  },
  {
   "cell_type": "code",
   "execution_count": 0,
   "metadata": {
    "colab": {
     "base_uri": "https://localhost:8080/",
     "height": 279
    },
    "colab_type": "code",
    "executionInfo": {
     "elapsed": 1920,
     "status": "ok",
     "timestamp": 1582732587516,
     "user": {
      "displayName": "VISHAL PATIL",
      "photoUrl": "https://lh3.googleusercontent.com/a-/AAuE7mBP_mBGErnznHqgGOCMji_Vduvj-Z9Oq7CJzoEH=s64",
      "userId": "05327237884246247525"
     },
     "user_tz": -330
    },
    "id": "Go5HSV7kAbg4",
    "outputId": "4f54a153-6253-4806-b743-4cdcef434625"
   },
   "outputs": [
    {
     "data": {
      "text/plain": [
       "<matplotlib.axes._subplots.AxesSubplot at 0x7ff5cd80ceb8>"
      ]
     },
     "execution_count": 10,
     "metadata": {
      "tags": []
     },
     "output_type": "execute_result"
    },
    {
     "data": {
      "image/png": "[encoded data removed]",
      "text/plain": [
       "<Figure size 432x288 with 1 Axes>"
      ]
     },
     "metadata": {
      "tags": []
     },
     "output_type": "display_data"
    }
   ],
   "source": [
    "classdist1.plot(kind=\"bar\")"
   ]
  },
  {
   "cell_type": "code",
   "execution_count": 0,
   "metadata": {
    "colab": {},
    "colab_type": "code",
    "id": "QolqF--S36xI"
   },
   "outputs": [],
   "source": [
    "# x_train\n",
    "b=[]\n",
    "import numpy as np\n",
    "for index ,row in data_train.iterrows():\n",
    "    val=row['pixels1'].split(\" \")\n",
    "    for i in val:\n",
    "        a=int(i)\n",
    "        b.append(a)\n",
    "arr=np.array(b,'float32')\n",
    "x_train=arr.reshape(16744,2304)"
   ]
  },
  {
   "cell_type": "code",
   "execution_count": 0,
   "metadata": {
    "colab": {},
    "colab_type": "code",
    "id": "tMPZjdm336xf"
   },
   "outputs": [],
   "source": [
    "# x_test\n",
    "b=[]\n",
    "for index ,row in data_test.iterrows():\n",
    "    val=row['pixels1'].split(\" \")\n",
    "    for i in val:\n",
    "        a=int(i)\n",
    "        b.append(a)\n",
    "arr=np.array(b,'float32')\n",
    "x_test=arr.reshape(4144,2304)"
   ]
  },
  {
   "cell_type": "code",
   "execution_count": 0,
   "metadata": {
    "colab": {},
    "colab_type": "code",
    "id": "NixBZJPt36x6"
   },
   "outputs": [],
   "source": [
    "#y_train\n",
    "y_train=np.array(data_train['emotion'].tolist(),'float32')"
   ]
  },
  {
   "cell_type": "code",
   "execution_count": 0,
   "metadata": {
    "colab": {},
    "colab_type": "code",
    "id": "l7mCQzi_36yS"
   },
   "outputs": [],
   "source": [
    "# y_test\n",
    "y_test=np.array(data_test['emotion'].tolist(),'float32')"
   ]
  },
  {
   "cell_type": "code",
   "execution_count": 0,
   "metadata": {
    "colab": {},
    "colab_type": "code",
    "id": "oB3XaKC036ys"
   },
   "outputs": [],
   "source": [
    "# reshape \n",
    "x_train = x_train.reshape(x_train.shape[0], 48, 48, 1)\n",
    "x_train = x_train.astype('float32')\n",
    "x_test = x_test.reshape(x_test.shape[0], 48, 48, 1)\n",
    "x_test = x_test.astype('float32')"
   ]
  },
  {
   "cell_type": "code",
   "execution_count": 0,
   "metadata": {
    "colab": {},
    "colab_type": "code",
    "id": "M-ojXr6l36zE"
   },
   "outputs": [],
   "source": [
    "# One hot code\n",
    "y_train=np_utils.to_categorical(y_train,num_classes=7)\n",
    "y_test=np_utils.to_categorical(y_test,num_classes=7)"
   ]
  },
  {
   "cell_type": "code",
   "execution_count": 0,
   "metadata": {
    "colab": {},
    "colab_type": "code",
    "id": "rwUM7sti36zf"
   },
   "outputs": [],
   "source": [
    "# normalize\n",
    "x_train /= 255\n",
    "x_test /= 255"
   ]
  },
  {
   "cell_type": "code",
   "execution_count": 13,
   "metadata": {
    "colab": {
     "base_uri": "https://localhost:8080/",
     "height": 88
    },
    "colab_type": "code",
    "executionInfo": {
     "elapsed": 1479,
     "status": "ok",
     "timestamp": 1582741174450,
     "user": {
      "displayName": "VISHAL PATIL",
      "photoUrl": "https://lh3.googleusercontent.com/a-/AAuE7mBP_mBGErnznHqgGOCMji_Vduvj-Z9Oq7CJzoEH=s64",
      "userId": "05327237884246247525"
     },
     "user_tz": -330
    },
    "id": "uIr2sziJ36zy",
    "outputId": "f899664b-d51e-4182-e5d5-17bd8f3d703a"
   },
   "outputs": [
    {
     "name": "stdout",
     "output_type": "stream",
     "text": [
      "WARNING:tensorflow:From /usr/local/lib/python3.6/dist-packages/tensorflow_core/python/ops/resource_variable_ops.py:1630: calling BaseResourceVariable.__init__ (from tensorflow.python.ops.resource_variable_ops) with constraint is deprecated and will be removed in a future version.\n",
      "Instructions for updating:\n",
      "If using Keras pass *_constraint arguments to layers.\n"
     ]
    }
   ],
   "source": [
    "model = tf.keras.models.Sequential()\n",
    "#1st convolution layer\n",
    "model.add(tf.keras.layers.Conv2D(64, (5, 5), activation=tf.nn.relu, input_shape=(48,48,1)))\n",
    "model.add(tf.keras.layers.MaxPooling2D(pool_size=(5,5),strides=(2, 2)))\n",
    "#2nd convolution layer\n",
    "model.add(tf.keras.layers.Conv2D(64, (3, 3), activation=tf.nn.relu))\n",
    "model.add(tf.keras.layers.Conv2D(64, (3, 3), activation=tf.nn.relu))\n",
    "model.add(tf.keras.layers.AveragePooling2D(pool_size=(3,3),strides=(2, 2)))\n",
    "#3rd convolution layer\n",
    "model.add(tf.keras.layers.Conv2D(128, (3, 3), activation=tf.nn.relu))\n",
    "model.add(tf.keras.layers.Conv2D(128, (3, 3), activation=tf.nn.relu))\n",
    "model.add(tf.keras.layers.AveragePooling2D(pool_size=(3,3),strides=(2, 2)))\n",
    "model.add(tf.keras.layers.Flatten())\n",
    "#fully connected neural networks\n",
    "model.add(tf.keras.layers.Dense(1024, activation=tf.nn.relu))\n",
    "#model.add(tf.keras.layers.Dropout(0.2))\n",
    "model.add(tf.keras.layers.Dense(1024, activation=tf.nn.relu))\n",
    "#model.add(tf.keras.layers.Dropout(0.2))\n",
    "model.add(tf.keras.layers.Dense(7, activation=tf.nn.softmax))"
   ]
  },
  {
   "cell_type": "code",
   "execution_count": 14,
   "metadata": {
    "colab": {
     "base_uri": "https://localhost:8080/",
     "height": 561
    },
    "colab_type": "code",
    "executionInfo": {
     "elapsed": 1324,
     "status": "ok",
     "timestamp": 1582741183769,
     "user": {
      "displayName": "VISHAL PATIL",
      "photoUrl": "https://lh3.googleusercontent.com/a-/AAuE7mBP_mBGErnznHqgGOCMji_Vduvj-Z9Oq7CJzoEH=s64",
      "userId": "05327237884246247525"
     },
     "user_tz": -330
    },
    "id": "QunHGf0RCbxe",
    "outputId": "658c763a-7c81-49ce-dc3f-0e70ab84c551"
   },
   "outputs": [
    {
     "name": "stdout",
     "output_type": "stream",
     "text": [
      "Model: \"sequential\"\n",
      "_________________________________________________________________\n",
      "Layer (type)                 Output Shape              Param #   \n",
      "=================================================================\n",
      "conv2d (Conv2D)              (None, 44, 44, 64)        1664      \n",
      "_________________________________________________________________\n",
      "max_pooling2d (MaxPooling2D) (None, 20, 20, 64)        0         \n",
      "_________________________________________________________________\n",
      "conv2d_1 (Conv2D)            (None, 18, 18, 64)        36928     \n",
      "_________________________________________________________________\n",
      "conv2d_2 (Conv2D)            (None, 16, 16, 64)        36928     \n",
      "_________________________________________________________________\n",
      "average_pooling2d (AveragePo (None, 7, 7, 64)          0         \n",
      "_________________________________________________________________\n",
      "conv2d_3 (Conv2D)            (None, 5, 5, 128)         73856     \n",
      "_________________________________________________________________\n",
      "conv2d_4 (Conv2D)            (None, 3, 3, 128)         147584    \n",
      "_________________________________________________________________\n",
      "average_pooling2d_1 (Average (None, 1, 1, 128)         0         \n",
      "_________________________________________________________________\n",
      "flatten (Flatten)            (None, 128)               0         \n",
      "_________________________________________________________________\n",
      "dense (Dense)                (None, 1024)              132096    \n",
      "_________________________________________________________________\n",
      "dense_1 (Dense)              (None, 1024)              1049600   \n",
      "_________________________________________________________________\n",
      "dense_2 (Dense)              (None, 7)                 7175      \n",
      "=================================================================\n",
      "Total params: 1,485,831\n",
      "Trainable params: 1,485,831\n",
      "Non-trainable params: 0\n",
      "_________________________________________________________________\n"
     ]
    }
   ],
   "source": [
    "model.summary()"
   ]
  },
  {
   "cell_type": "code",
   "execution_count": 0,
   "metadata": {
    "colab": {},
    "colab_type": "code",
    "id": "W3nx_qWM360M"
   },
   "outputs": [],
   "source": [
    "gen = ImageDataGenerator()\n",
    "train_generator = gen.flow(x_train, y_train, batch_size=256)"
   ]
  },
  {
   "cell_type": "code",
   "execution_count": 0,
   "metadata": {
    "colab": {},
    "colab_type": "code",
    "id": "yJXNyXgJ360f"
   },
   "outputs": [],
   "source": [
    "#from keras.optimizers import Adam \n",
    "#opt=Adam(lr=0.001)"
   ]
  },
  {
   "cell_type": "code",
   "execution_count": 0,
   "metadata": {
    "colab": {},
    "colab_type": "code",
    "id": "U2Rt6WyI360u"
   },
   "outputs": [],
   "source": [
    "model.compile(loss='categorical_crossentropy', optimizer='adam', metrics=['accuracy'])"
   ]
  },
  {
   "cell_type": "code",
   "execution_count": 17,
   "metadata": {
    "colab": {
     "base_uri": "https://localhost:8080/",
     "height": 1000
    },
    "colab_type": "code",
    "executionInfo": {
     "elapsed": 163804,
     "status": "ok",
     "timestamp": 1582741363189,
     "user": {
      "displayName": "VISHAL PATIL",
      "photoUrl": "https://lh3.googleusercontent.com/a-/AAuE7mBP_mBGErnznHqgGOCMji_Vduvj-Z9Oq7CJzoEH=s64",
      "userId": "05327237884246247525"
     },
     "user_tz": -330
    },
    "id": "IKqS1pld361A",
    "outputId": "640bcd5b-d07e-4f0b-fb48-1147dd939b58"
   },
   "outputs": [
    {
     "name": "stdout",
     "output_type": "stream",
     "text": [
      "Epoch 1/30\n",
      "255/256 [============================>.] - ETA: 0s - loss: 1.5464 - acc: 0.4181Epoch 1/30\n",
      "4144/256 [=====================================================================================================================================================================================================================================================================================================================================================================================================================================================================================================] - 0s 51us/sample - loss: 2.2549 - acc: 0.6192\n",
      "256/256 [==============================] - 12s 46ms/step - loss: 1.5449 - acc: 0.4188 - val_loss: 1.1948 - val_acc: 0.6192\n",
      "Epoch 2/30\n",
      "254/256 [============================>.] - ETA: 0s - loss: 0.8283 - acc: 0.7066Epoch 1/30\n",
      "4144/256 [=====================================================================================================================================================================================================================================================================================================================================================================================================================================================================================================] - 0s 30us/sample - loss: 1.5522 - acc: 0.7756\n",
      "256/256 [==============================] - 5s 19ms/step - loss: 0.8267 - acc: 0.7072 - val_loss: 0.7122 - val_acc: 0.7756\n",
      "Epoch 3/30\n",
      "254/256 [============================>.] - ETA: 0s - loss: 0.4858 - acc: 0.8265Epoch 1/30\n",
      "4144/256 [=====================================================================================================================================================================================================================================================================================================================================================================================================================================================================================================] - 0s 30us/sample - loss: 1.3087 - acc: 0.8320\n",
      "256/256 [==============================] - 5s 19ms/step - loss: 0.4848 - acc: 0.8267 - val_loss: 0.5473 - val_acc: 0.8320\n",
      "Epoch 4/30\n",
      "254/256 [============================>.] - ETA: 0s - loss: 0.3360 - acc: 0.8800Epoch 1/30\n",
      "4144/256 [=====================================================================================================================================================================================================================================================================================================================================================================================================================================================================================================] - 0s 29us/sample - loss: 1.2391 - acc: 0.8224\n",
      "256/256 [==============================] - 5s 19ms/step - loss: 0.3361 - acc: 0.8800 - val_loss: 0.5723 - val_acc: 0.8224\n",
      "Epoch 5/30\n",
      "254/256 [============================>.] - ETA: 0s - loss: 0.2362 - acc: 0.9151Epoch 1/30\n",
      "4144/256 [=====================================================================================================================================================================================================================================================================================================================================================================================================================================================================================================] - 0s 31us/sample - loss: 1.2303 - acc: 0.8569\n",
      "256/256 [==============================] - 5s 19ms/step - loss: 0.2363 - acc: 0.9152 - val_loss: 0.5198 - val_acc: 0.8569\n",
      "Epoch 6/30\n",
      "255/256 [============================>.] - ETA: 0s - loss: 0.1821 - acc: 0.9338Epoch 1/30\n",
      "4144/256 [=====================================================================================================================================================================================================================================================================================================================================================================================================================================================================================================] - 0s 31us/sample - loss: 1.3056 - acc: 0.8581\n",
      "256/256 [==============================] - 5s 19ms/step - loss: 0.1819 - acc: 0.9338 - val_loss: 0.5677 - val_acc: 0.8581\n",
      "Epoch 7/30\n",
      "254/256 [============================>.] - ETA: 0s - loss: 0.1368 - acc: 0.9520Epoch 1/30\n",
      "4144/256 [=====================================================================================================================================================================================================================================================================================================================================================================================================================================================================================================] - 0s 31us/sample - loss: 1.1371 - acc: 0.8501\n",
      "256/256 [==============================] - 5s 19ms/step - loss: 0.1373 - acc: 0.9517 - val_loss: 0.5796 - val_acc: 0.8501\n",
      "Epoch 8/30\n",
      "255/256 [============================>.] - ETA: 0s - loss: 0.0987 - acc: 0.9651Epoch 1/30\n",
      "4144/256 [=====================================================================================================================================================================================================================================================================================================================================================================================================================================================================================================] - 0s 34us/sample - loss: 1.2059 - acc: 0.8605\n",
      "256/256 [==============================] - 5s 20ms/step - loss: 0.0986 - acc: 0.9652 - val_loss: 0.6367 - val_acc: 0.8605\n",
      "Epoch 9/30\n",
      "255/256 [============================>.] - ETA: 0s - loss: 0.0846 - acc: 0.9707Epoch 1/30\n",
      "4144/256 [=====================================================================================================================================================================================================================================================================================================================================================================================================================================================================================================] - 0s 29us/sample - loss: 1.3378 - acc: 0.8637\n",
      "256/256 [==============================] - 5s 19ms/step - loss: 0.0845 - acc: 0.9708 - val_loss: 0.6830 - val_acc: 0.8637\n",
      "Epoch 10/30\n",
      "255/256 [============================>.] - ETA: 0s - loss: 0.0653 - acc: 0.9773Epoch 1/30\n",
      "4144/256 [=====================================================================================================================================================================================================================================================================================================================================================================================================================================================================================================] - 0s 30us/sample - loss: 1.0543 - acc: 0.8596\n",
      "256/256 [==============================] - 5s 19ms/step - loss: 0.0652 - acc: 0.9773 - val_loss: 0.6736 - val_acc: 0.8596\n",
      "Epoch 11/30\n",
      "253/256 [============================>.] - ETA: 0s - loss: 0.0438 - acc: 0.9849Epoch 1/30\n",
      "4144/256 [=====================================================================================================================================================================================================================================================================================================================================================================================================================================================================================================] - 0s 33us/sample - loss: 1.2757 - acc: 0.8666\n",
      "256/256 [==============================] - 5s 19ms/step - loss: 0.0435 - acc: 0.9851 - val_loss: 0.7736 - val_acc: 0.8666\n",
      "Epoch 12/30\n",
      "253/256 [============================>.] - ETA: 0s - loss: 0.0384 - acc: 0.9880Epoch 1/30\n",
      "4144/256 [=====================================================================================================================================================================================================================================================================================================================================================================================================================================================================================================] - 0s 29us/sample - loss: 1.3769 - acc: 0.8625\n",
      "256/256 [==============================] - 5s 19ms/step - loss: 0.0391 - acc: 0.9878 - val_loss: 0.6952 - val_acc: 0.8625\n",
      "Epoch 13/30\n",
      "253/256 [============================>.] - ETA: 0s - loss: 0.0308 - acc: 0.9894Epoch 1/30\n",
      "4144/256 [=====================================================================================================================================================================================================================================================================================================================================================================================================================================================================================================] - 0s 31us/sample - loss: 1.6755 - acc: 0.8591\n",
      "256/256 [==============================] - 5s 19ms/step - loss: 0.0307 - acc: 0.9895 - val_loss: 0.9266 - val_acc: 0.8591\n",
      "Epoch 14/30\n",
      "253/256 [============================>.] - ETA: 0s - loss: 0.0499 - acc: 0.9832Epoch 1/30\n",
      "4144/256 [=====================================================================================================================================================================================================================================================================================================================================================================================================================================================================================================] - 0s 30us/sample - loss: 1.8095 - acc: 0.8702\n",
      "256/256 [==============================] - 5s 19ms/step - loss: 0.0497 - acc: 0.9833 - val_loss: 0.8305 - val_acc: 0.8702\n",
      "Epoch 15/30\n",
      "255/256 [============================>.] - ETA: 0s - loss: 0.0063 - acc: 0.9984Epoch 1/30\n",
      "4144/256 [=====================================================================================================================================================================================================================================================================================================================================================================================================================================================================================================] - 0s 30us/sample - loss: 1.9618 - acc: 0.8723\n",
      "256/256 [==============================] - 5s 19ms/step - loss: 0.0063 - acc: 0.9984 - val_loss: 0.9503 - val_acc: 0.8723\n",
      "Epoch 16/30\n",
      "253/256 [============================>.] - ETA: 0s - loss: 0.0531 - acc: 0.9828Epoch 1/30\n",
      "4144/256 [=====================================================================================================================================================================================================================================================================================================================================================================================================================================================================================================] - 0s 31us/sample - loss: 1.7184 - acc: 0.8670\n",
      "256/256 [==============================] - 5s 19ms/step - loss: 0.0526 - acc: 0.9830 - val_loss: 0.8039 - val_acc: 0.8670\n",
      "Epoch 17/30\n",
      "253/256 [============================>.] - ETA: 0s - loss: 0.0165 - acc: 0.9946Epoch 1/30\n",
      "4144/256 [=====================================================================================================================================================================================================================================================================================================================================================================================================================================================================================================] - 0s 30us/sample - loss: 2.0120 - acc: 0.8530\n",
      "256/256 [==============================] - 5s 19ms/step - loss: 0.0168 - acc: 0.9945 - val_loss: 0.9895 - val_acc: 0.8530\n",
      "Epoch 18/30\n",
      "254/256 [============================>.] - ETA: 0s - loss: 0.0303 - acc: 0.9896Epoch 1/30\n",
      "4144/256 [=====================================================================================================================================================================================================================================================================================================================================================================================================================================================================================================] - 0s 31us/sample - loss: 2.0849 - acc: 0.8656\n",
      "256/256 [==============================] - 5s 19ms/step - loss: 0.0303 - acc: 0.9896 - val_loss: 0.9922 - val_acc: 0.8656\n",
      "Epoch 19/30\n",
      "255/256 [============================>.] - ETA: 0s - loss: 0.0381 - acc: 0.9870Epoch 1/30\n",
      "4144/256 [=====================================================================================================================================================================================================================================================================================================================================================================================================================================================================================================] - 0s 30us/sample - loss: 1.5915 - acc: 0.8680\n",
      "256/256 [==============================] - 5s 19ms/step - loss: 0.0379 - acc: 0.9870 - val_loss: 0.8562 - val_acc: 0.8680\n",
      "Epoch 20/30\n",
      "255/256 [============================>.] - ETA: 0s - loss: 0.0045 - acc: 0.9988Epoch 1/30\n",
      "4144/256 [=====================================================================================================================================================================================================================================================================================================================================================================================================================================================================================================] - 0s 31us/sample - loss: 2.4352 - acc: 0.8682\n",
      "256/256 [==============================] - 5s 20ms/step - loss: 0.0046 - acc: 0.9988 - val_loss: 1.0421 - val_acc: 0.8682\n",
      "Epoch 21/30\n",
      "255/256 [============================>.] - ETA: 0s - loss: 0.0402 - acc: 0.9859Epoch 1/30\n",
      "4144/256 [=====================================================================================================================================================================================================================================================================================================================================================================================================================================================================================================] - 0s 29us/sample - loss: 1.9002 - acc: 0.8702\n",
      "256/256 [==============================] - 5s 19ms/step - loss: 0.0401 - acc: 0.9859 - val_loss: 0.9499 - val_acc: 0.8702\n",
      "Epoch 22/30\n",
      "253/256 [============================>.] - ETA: 0s - loss: 0.0235 - acc: 0.9925Epoch 1/30\n",
      "4144/256 [=====================================================================================================================================================================================================================================================================================================================================================================================================================================================================================================] - 0s 30us/sample - loss: 1.7245 - acc: 0.8431\n",
      "256/256 [==============================] - 5s 19ms/step - loss: 0.0241 - acc: 0.9923 - val_loss: 0.9207 - val_acc: 0.8431\n",
      "Epoch 23/30\n",
      "254/256 [============================>.] - ETA: 0s - loss: 0.0178 - acc: 0.9942Epoch 1/30\n",
      "4144/256 [=====================================================================================================================================================================================================================================================================================================================================================================================================================================================================================================] - 0s 30us/sample - loss: 2.2195 - acc: 0.8678\n",
      "256/256 [==============================] - 5s 19ms/step - loss: 0.0177 - acc: 0.9942 - val_loss: 0.9554 - val_acc: 0.8678\n",
      "Epoch 24/30\n",
      "255/256 [============================>.] - ETA: 0s - loss: 1.5427e-04 - acc: 1.0000Epoch 1/30\n",
      "4144/256 [=====================================================================================================================================================================================================================================================================================================================================================================================================================================================================================================] - 0s 30us/sample - loss: 2.3409 - acc: 0.8682\n",
      "256/256 [==============================] - 5s 19ms/step - loss: 1.5424e-04 - acc: 1.0000 - val_loss: 1.0182 - val_acc: 0.8682\n",
      "Epoch 25/30\n",
      "255/256 [============================>.] - ETA: 0s - loss: 7.4542e-05 - acc: 1.0000Epoch 1/30\n",
      "4144/256 [=====================================================================================================================================================================================================================================================================================================================================================================================================================================================================================================] - 0s 30us/sample - loss: 2.4732 - acc: 0.8687\n",
      "256/256 [==============================] - 5s 19ms/step - loss: 7.4425e-05 - acc: 1.0000 - val_loss: 1.0729 - val_acc: 0.8687\n",
      "Epoch 26/30\n",
      "253/256 [============================>.] - ETA: 0s - loss: 4.1376e-05 - acc: 1.0000Epoch 1/30\n",
      "4144/256 [=====================================================================================================================================================================================================================================================================================================================================================================================================================================================================================================] - 0s 30us/sample - loss: 2.5556 - acc: 0.8694\n",
      "256/256 [==============================] - 5s 20ms/step - loss: 4.1228e-05 - acc: 1.0000 - val_loss: 1.1360 - val_acc: 0.8694\n",
      "Epoch 27/30\n",
      "255/256 [============================>.] - ETA: 0s - loss: 2.3835e-05 - acc: 1.0000Epoch 1/30\n",
      "4144/256 [=====================================================================================================================================================================================================================================================================================================================================================================================================================================================================================================] - 0s 30us/sample - loss: 2.6582 - acc: 0.8709\n",
      "256/256 [==============================] - 5s 19ms/step - loss: 2.3796e-05 - acc: 1.0000 - val_loss: 1.1865 - val_acc: 0.8709\n",
      "Epoch 28/30\n",
      "254/256 [============================>.] - ETA: 0s - loss: 1.5745e-05 - acc: 1.0000Epoch 1/30\n",
      "4144/256 [=====================================================================================================================================================================================================================================================================================================================================================================================================================================================================================================] - 0s 31us/sample - loss: 2.7696 - acc: 0.8707\n",
      "256/256 [==============================] - 5s 19ms/step - loss: 1.5710e-05 - acc: 1.0000 - val_loss: 1.2369 - val_acc: 0.8707\n",
      "Epoch 29/30\n",
      "255/256 [============================>.] - ETA: 0s - loss: 1.1067e-05 - acc: 1.0000Epoch 1/30\n",
      "4144/256 [=====================================================================================================================================================================================================================================================================================================================================================================================================================================================================================================] - 0s 30us/sample - loss: 2.8394 - acc: 0.8702\n",
      "256/256 [==============================] - 5s 19ms/step - loss: 1.1061e-05 - acc: 1.0000 - val_loss: 1.2762 - val_acc: 0.8702\n",
      "Epoch 30/30\n",
      "254/256 [============================>.] - ETA: 0s - loss: 8.2545e-06 - acc: 1.0000Epoch 1/30\n",
      "4144/256 [=====================================================================================================================================================================================================================================================================================================================================================================================================================================================================================================] - 0s 32us/sample - loss: 2.8860 - acc: 0.8694\n",
      "256/256 [==============================] - 5s 19ms/step - loss: 8.2459e-06 - acc: 1.0000 - val_loss: 1.3051 - val_acc: 0.8694\n"
     ]
    }
   ],
   "source": [
    "hist=model.fit_generator(train_generator, steps_per_epoch=256, epochs=30,validation_data=(x_test,y_test)) "
   ]
  },
  {
   "cell_type": "code",
   "execution_count": 0,
   "metadata": {
    "colab": {},
    "colab_type": "code",
    "id": "SJBP8mjS361S"
   },
   "outputs": [],
   "source": [
    "train_loss=hist.history['loss']\n",
    "test_loss=hist.history['val_loss']"
   ]
  },
  {
   "cell_type": "code",
   "execution_count": 0,
   "metadata": {
    "colab": {},
    "colab_type": "code",
    "id": "cyIiObYqEHuw"
   },
   "outputs": [],
   "source": [
    "epoches=range(1,31)"
   ]
  },
  {
   "cell_type": "code",
   "execution_count": 20,
   "metadata": {
    "colab": {
     "base_uri": "https://localhost:8080/",
     "height": 304
    },
    "colab_type": "code",
    "executionInfo": {
     "elapsed": 18997,
     "status": "ok",
     "timestamp": 1582741441237,
     "user": {
      "displayName": "VISHAL PATIL",
      "photoUrl": "https://lh3.googleusercontent.com/a-/AAuE7mBP_mBGErnznHqgGOCMji_Vduvj-Z9Oq7CJzoEH=s64",
      "userId": "05327237884246247525"
     },
     "user_tz": -330
    },
    "id": "abr3iwvR361k",
    "outputId": "989bf022-191b-4564-e138-ffdbf2dd0f84"
   },
   "outputs": [
    {
     "data": {
      "image/png": "[encoded data removed]",
      "text/plain": [
       "<Figure size 432x288 with 1 Axes>"
      ]
     },
     "metadata": {
      "tags": []
     },
     "output_type": "display_data"
    }
   ],
   "source": [
    "import matplotlib.pyplot as plt\n",
    "plt.style.use('fivethirtyeight')\n",
    "plt.plot(epoches,train_loss,\"r--\")\n",
    "plt.plot(epoches,test_loss,\"b-\")\n",
    "plt.legend([\"Traning Loss :\",\"Test Loss\"])\n",
    "plt.xlabel(\"Epoch\")\n",
    "plt.ylabel(\"Loss\")\n",
    "plt.show()"
   ]
  },
  {
   "cell_type": "code",
   "execution_count": 0,
   "metadata": {
    "colab": {},
    "colab_type": "code",
    "id": "_tvapike3614"
   },
   "outputs": [],
   "source": [
    "train_acc=hist.history['acc']\n",
    "test_acc=hist.history['val_acc']"
   ]
  },
  {
   "cell_type": "code",
   "execution_count": 22,
   "metadata": {
    "colab": {
     "base_uri": "https://localhost:8080/",
     "height": 304
    },
    "colab_type": "code",
    "executionInfo": {
     "elapsed": 2118,
     "status": "ok",
     "timestamp": 1582741476836,
     "user": {
      "displayName": "VISHAL PATIL",
      "photoUrl": "https://lh3.googleusercontent.com/a-/AAuE7mBP_mBGErnznHqgGOCMji_Vduvj-Z9Oq7CJzoEH=s64",
      "userId": "05327237884246247525"
     },
     "user_tz": -330
    },
    "id": "OJqVZGo4362I",
    "outputId": "261f4693-c726-4bc8-969a-191c1d1a4593"
   },
   "outputs": [
    {
     "data": {
      "image/png": "[encoded data removed]",
      "text/plain": [
       "<Figure size 432x288 with 1 Axes>"
      ]
     },
     "metadata": {
      "tags": []
     },
     "output_type": "display_data"
    }
   ],
   "source": [
    "import matplotlib.pyplot as plt\n",
    "plt.style.use('fivethirtyeight')\n",
    "plt.plot(epoches,train_acc,\"r--\")\n",
    "plt.plot(epoches,test_acc,\"b-\")\n",
    "plt.legend([\"Traning acuracy :\",\"Test accuracy\"])\n",
    "plt.xlabel(\"Epoch\")\n",
    "plt.ylabel(\"Acuracy\")\n",
    "plt.show()"
   ]
  },
  {
   "cell_type": "code",
   "execution_count": 0,
   "metadata": {
    "colab": {},
    "colab_type": "code",
    "id": "4HuURwIT362a"
   },
   "outputs": [],
   "source": [
    "import pandas as pd\n",
    "result=pd.DataFrame({'traing loss':train_loss,'traing accuracy':train_acc,'test loss':test_loss,'test accuracy ':test_acc})"
   ]
  },
  {
   "cell_type": "code",
   "execution_count": 24,
   "metadata": {
    "colab": {
     "base_uri": "https://localhost:8080/",
     "height": 297
    },
    "colab_type": "code",
    "executionInfo": {
     "elapsed": 1410,
     "status": "ok",
     "timestamp": 1582741495856,
     "user": {
      "displayName": "VISHAL PATIL",
      "photoUrl": "https://lh3.googleusercontent.com/a-/AAuE7mBP_mBGErnznHqgGOCMji_Vduvj-Z9Oq7CJzoEH=s64",
      "userId": "05327237884246247525"
     },
     "user_tz": -330
    },
    "id": "DBA1ZyBTDff0",
    "outputId": "f739cbcc-0ebb-418a-f2e2-ba0c30e59fb5"
   },
   "outputs": [
    {
     "data": {
      "text/html": [
       "<div>\n",
       "<style scoped>\n",
       "    .dataframe tbody tr th:only-of-type {\n",
       "        vertical-align: middle;\n",
       "    }\n",
       "\n",
       "    .dataframe tbody tr th {\n",
       "        vertical-align: top;\n",
       "    }\n",
       "\n",
       "    .dataframe thead th {\n",
       "        text-align: right;\n",
       "    }\n",
       "</style>\n",
       "<table border=\"1\" class=\"dataframe\">\n",
       "  <thead>\n",
       "    <tr style=\"text-align: right;\">\n",
       "      <th></th>\n",
       "      <th>traing loss</th>\n",
       "      <th>traing accuracy</th>\n",
       "      <th>test loss</th>\n",
       "      <th>test accuracy</th>\n",
       "    </tr>\n",
       "  </thead>\n",
       "  <tbody>\n",
       "    <tr>\n",
       "      <th>count</th>\n",
       "      <td>30.000000</td>\n",
       "      <td>30.000000</td>\n",
       "      <td>30.000000</td>\n",
       "      <td>30.000000</td>\n",
       "    </tr>\n",
       "    <tr>\n",
       "      <th>mean</th>\n",
       "      <td>0.146335</td>\n",
       "      <td>0.947201</td>\n",
       "      <td>0.886832</td>\n",
       "      <td>0.850644</td>\n",
       "    </tr>\n",
       "    <tr>\n",
       "      <th>std</th>\n",
       "      <td>0.317289</td>\n",
       "      <td>0.117810</td>\n",
       "      <td>0.234496</td>\n",
       "      <td>0.047877</td>\n",
       "    </tr>\n",
       "    <tr>\n",
       "      <th>min</th>\n",
       "      <td>0.000008</td>\n",
       "      <td>0.418787</td>\n",
       "      <td>0.519838</td>\n",
       "      <td>0.619209</td>\n",
       "    </tr>\n",
       "    <tr>\n",
       "      <th>25%</th>\n",
       "      <td>0.005006</td>\n",
       "      <td>0.966578</td>\n",
       "      <td>0.686048</td>\n",
       "      <td>0.857203</td>\n",
       "    </tr>\n",
       "    <tr>\n",
       "      <th>50%</th>\n",
       "      <td>0.038515</td>\n",
       "      <td>0.987447</td>\n",
       "      <td>0.923649</td>\n",
       "      <td>0.866071</td>\n",
       "    </tr>\n",
       "    <tr>\n",
       "      <th>75%</th>\n",
       "      <td>0.095065</td>\n",
       "      <td>0.998660</td>\n",
       "      <td>1.036113</td>\n",
       "      <td>0.869269</td>\n",
       "    </tr>\n",
       "    <tr>\n",
       "      <th>max</th>\n",
       "      <td>1.544926</td>\n",
       "      <td>1.000000</td>\n",
       "      <td>1.305128</td>\n",
       "      <td>0.872346</td>\n",
       "    </tr>\n",
       "  </tbody>\n",
       "</table>\n",
       "</div>"
      ],
      "text/plain": [
       "       traing loss  traing accuracy  test loss  test accuracy \n",
       "count    30.000000        30.000000  30.000000       30.000000\n",
       "mean      0.146335         0.947201   0.886832        0.850644\n",
       "std       0.317289         0.117810   0.234496        0.047877\n",
       "min       0.000008         0.418787   0.519838        0.619209\n",
       "25%       0.005006         0.966578   0.686048        0.857203\n",
       "50%       0.038515         0.987447   0.923649        0.866071\n",
       "75%       0.095065         0.998660   1.036113        0.869269\n",
       "max       1.544926         1.000000   1.305128        0.872346"
      ]
     },
     "execution_count": 24,
     "metadata": {
      "tags": []
     },
     "output_type": "execute_result"
    }
   ],
   "source": [
    "result.describe()"
   ]
  },
  {
   "cell_type": "code",
   "execution_count": 0,
   "metadata": {
    "colab": {},
    "colab_type": "code",
    "id": "AkUpAuMu362x"
   },
   "outputs": [],
   "source": [
    "hist.model.save('/content/drive/My Drive/modelface_cnn_network5.h5')"
   ]
  },
  {
   "cell_type": "code",
   "execution_count": 0,
   "metadata": {
    "colab": {},
    "colab_type": "code",
    "id": "Y39_Nyax363B"
   },
   "outputs": [],
   "source": [
    "from sklearn.metrics import classification_report, confusion_matrix"
   ]
  },
  {
   "cell_type": "code",
   "execution_count": 0,
   "metadata": {
    "colab": {},
    "colab_type": "code",
    "id": "dNe_rjtU363b"
   },
   "outputs": [],
   "source": [
    "import numpy as np\n",
    "y_test_hat=hist.model.predict(x_test)\n",
    "prediction=[]\n",
    "for i in range(len(y_test)):\n",
    "    prediction.append(np.argmax(y_test_hat[i]))  \n"
   ]
  },
  {
   "cell_type": "code",
   "execution_count": 0,
   "metadata": {
    "colab": {},
    "colab_type": "code",
    "id": "YFarnpQ8Eq80"
   },
   "outputs": [],
   "source": [
    "actual=y_test=np.array(data_test['emotion'].tolist(),'float32')"
   ]
  },
  {
   "cell_type": "code",
   "execution_count": 0,
   "metadata": {
    "colab": {},
    "colab_type": "code",
    "id": "f44y_HNW363u"
   },
   "outputs": [],
   "source": [
    "CM=confusion_matrix(actual,prediction)"
   ]
  },
  {
   "cell_type": "code",
   "execution_count": 30,
   "metadata": {
    "colab": {
     "base_uri": "https://localhost:8080/",
     "height": 136
    },
    "colab_type": "code",
    "executionInfo": {
     "elapsed": 1052,
     "status": "ok",
     "timestamp": 1582741518425,
     "user": {
      "displayName": "VISHAL PATIL",
      "photoUrl": "https://lh3.googleusercontent.com/a-/AAuE7mBP_mBGErnznHqgGOCMji_Vduvj-Z9Oq7CJzoEH=s64",
      "userId": "05327237884246247525"
     },
     "user_tz": -330
    },
    "id": "LoIs7bfDS2_f",
    "outputId": "67eb263b-92ff-4ad8-a899-577bb57480b3"
   },
   "outputs": [
    {
     "data": {
      "text/plain": [
       "array([[ 424,   16,    5,   17,   26,    2,   18],\n",
       "       [  19,   52,    4,    5,    6,    1,    2],\n",
       "       [  12,    5,  148,    6,   25,   14,    7],\n",
       "       [  21,    7,    8, 1342,   30,    4,   29],\n",
       "       [  18,    5,   14,   38,  374,    3,   33],\n",
       "       [   3,    1,    9,    9,    3,  621,   11],\n",
       "       [  22,    3,    8,   25,   38,    9,  642]])"
      ]
     },
     "execution_count": 30,
     "metadata": {
      "tags": []
     },
     "output_type": "execute_result"
    }
   ],
   "source": [
    "CM"
   ]
  },
  {
   "cell_type": "code",
   "execution_count": 31,
   "metadata": {
    "colab": {
     "base_uri": "https://localhost:8080/",
     "height": 649
    },
    "colab_type": "code",
    "executionInfo": {
     "elapsed": 2085,
     "status": "ok",
     "timestamp": 1582741523243,
     "user": {
      "displayName": "VISHAL PATIL",
      "photoUrl": "https://lh3.googleusercontent.com/a-/AAuE7mBP_mBGErnznHqgGOCMji_Vduvj-Z9Oq7CJzoEH=s64",
      "userId": "05327237884246247525"
     },
     "user_tz": -330
    },
    "id": "y0qrsx5fO4nl",
    "outputId": "2b756cd3-fd85-42f6-b6f0-869e65436b0b"
   },
   "outputs": [
    {
     "data": {
      "text/plain": [
       "<matplotlib.axes._subplots.AxesSubplot at 0x7f5a1d4c94e0>"
      ]
     },
     "execution_count": 31,
     "metadata": {
      "tags": []
     },
     "output_type": "execute_result"
    },
    {
     "data": {
      "image/png": "[encoded data removed]",
      "text/plain": [
       "<Figure size 720x720 with 2 Axes>"
      ]
     },
     "metadata": {
      "tags": []
     },
     "output_type": "display_data"
    }
   ],
   "source": [
    "import seaborn as sns\n",
    "import matplotlib.pyplot as plt\n",
    "plt.figure(figsize=(10,10))\n",
    "sns.heatmap(CM,annot=True,vmin=0,vmax=1500,linewidths=2)"
   ]
  },
  {
   "cell_type": "code",
   "execution_count": 0,
   "metadata": {
    "colab": {},
    "colab_type": "code",
    "id": "ng4KedgJ3638"
   },
   "outputs": [],
   "source": [
    "objects = ['angry', 'disgust', 'fear', 'happy', 'sad', 'surprise', 'neutral']"
   ]
  },
  {
   "cell_type": "code",
   "execution_count": 33,
   "metadata": {
    "colab": {
     "base_uri": "https://localhost:8080/",
     "height": 255
    },
    "colab_type": "code",
    "executionInfo": {
     "elapsed": 1462,
     "status": "ok",
     "timestamp": 1582741534147,
     "user": {
      "displayName": "VISHAL PATIL",
      "photoUrl": "https://lh3.googleusercontent.com/a-/AAuE7mBP_mBGErnznHqgGOCMji_Vduvj-Z9Oq7CJzoEH=s64",
      "userId": "05327237884246247525"
     },
     "user_tz": -330
    },
    "id": "L88t5QRF364M",
    "outputId": "78a63a3b-9913-43d5-93fa-59d100a6f39e"
   },
   "outputs": [
    {
     "name": "stdout",
     "output_type": "stream",
     "text": [
      "              precision    recall  f1-score   support\n",
      "\n",
      "       angry       0.82      0.83      0.83       508\n",
      "     disgust       0.58      0.58      0.58        89\n",
      "        fear       0.76      0.68      0.72       217\n",
      "       happy       0.93      0.93      0.93      1441\n",
      "         sad       0.75      0.77      0.76       485\n",
      "    surprise       0.95      0.95      0.95       657\n",
      "     neutral       0.87      0.86      0.86       747\n",
      "\n",
      "    accuracy                           0.87      4144\n",
      "   macro avg       0.81      0.80      0.80      4144\n",
      "weighted avg       0.87      0.87      0.87      4144\n",
      "\n"
     ]
    }
   ],
   "source": [
    "print(classification_report(actual,prediction,target_names=objects))"
   ]
  },
  {
   "cell_type": "code",
   "execution_count": 0,
   "metadata": {
    "colab": {},
    "colab_type": "code",
    "id": "GE-9lMpC364f"
   },
   "outputs": [],
   "source": []
  }
 ],
 "metadata": {
  "accelerator": "GPU",
  "colab": {
   "collapsed_sections": [],
   "name": " Face_expres-new.ipynb",
   "provenance": [
    {
     "file_id": "1-R6_FlPqdkFnT8QgYZmwt9gWF6xNKhQh",
     "timestamp": 1582294405662
    }
   ],
   "toc_visible": true
  },
  "kernelspec": {
   "display_name": "Python 3",
   "language": "python",
   "name": "python3"
  },
  "language_info": {
   "codemirror_mode": {
    "name": "ipython",
    "version": 3
   },
   "file_extension": ".py",
   "mimetype": "text/x-python",
   "name": "python",
   "nbconvert_exporter": "python",
   "pygments_lexer": "ipython3",
   "version": "3.7.5"
  }
 },
 "nbformat": 4,
 "nbformat_minor": 1
}
