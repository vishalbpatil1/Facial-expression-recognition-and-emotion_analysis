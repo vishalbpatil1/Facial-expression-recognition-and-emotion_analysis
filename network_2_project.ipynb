{
 "cells": [
  {
   "cell_type": "code",
   "execution_count": 2,
   "metadata": {
    "colab": {
     "base_uri": "https://localhost:8080/",
     "height": 122
    },
    "colab_type": "code",
    "executionInfo": {
     "elapsed": 49329,
     "status": "ok",
     "timestamp": 1582735278198,
     "user": {
      "displayName": "VISHAL PATIL",
      "photoUrl": "https://lh3.googleusercontent.com/a-/AAuE7mBP_mBGErnznHqgGOCMji_Vduvj-Z9Oq7CJzoEH=s64",
      "userId": "05327237884246247525"
     },
     "user_tz": -330
    },
    "id": "kqdJ3g5fArNk",
    "outputId": "a97dbfb6-f8b7-4a23-e552-91ff6dc41a16"
   },
   "outputs": [
    {
     "name": "stdout",
     "output_type": "stream",
     "text": [
      "Go to this URL in a browser: https://accounts.google.com/o/oauth2/auth?client_id=947318989803-6bn6qk8qdgf4n4g3pfee6491hc0brc4i.apps.googleusercontent.com&redirect_uri=urn%3aietf%3awg%3aoauth%3a2.0%3aoob&response_type=code&scope=email%20https%3a%2f%2fwww.googleapis.com%2fauth%2fdocs.test%20https%3a%2f%2fwww.googleapis.com%2fauth%2fdrive%20https%3a%2f%2fwww.googleapis.com%2fauth%2fdrive.photos.readonly%20https%3a%2f%2fwww.googleapis.com%2fauth%2fpeopleapi.readonly\n",
      "\n",
      "Enter your authorization code:\n",
      "··········\n",
      "Mounted at /content/drive\n"
     ]
    }
   ],
   "source": [
    "from google.colab import drive\n",
    "drive.mount('/content/drive')"
   ]
  },
  {
   "cell_type": "code",
   "execution_count": 3,
   "metadata": {
    "colab": {
     "base_uri": "https://localhost:8080/",
     "height": 80
    },
    "colab_type": "code",
    "executionInfo": {
     "elapsed": 3453,
     "status": "ok",
     "timestamp": 1582735281657,
     "user": {
      "displayName": "VISHAL PATIL",
      "photoUrl": "https://lh3.googleusercontent.com/a-/AAuE7mBP_mBGErnznHqgGOCMji_Vduvj-Z9Oq7CJzoEH=s64",
      "userId": "05327237884246247525"
     },
     "user_tz": -330
    },
    "id": "AqrZVNrr36wP",
    "outputId": "cd268e32-cf7c-4b73-8559-bfdb62c07932"
   },
   "outputs": [
    {
     "name": "stderr",
     "output_type": "stream",
     "text": [
      "Using TensorFlow backend.\n"
     ]
    },
    {
     "data": {
      "text/html": [
       "<p style=\"color: red;\">\n",
       "The default version of TensorFlow in Colab will soon switch to TensorFlow 2.x.<br>\n",
       "We recommend you <a href=\"https://www.tensorflow.org/guide/migrate\" target=\"_blank\">upgrade</a> now \n",
       "or ensure your notebook will continue to use TensorFlow 1.x via the <code>%tensorflow_version 1.x</code> magic:\n",
       "<a href=\"https://colab.research.google.com/notebooks/tensorflow_version.ipynb\" target=\"_blank\">more info</a>.</p>\n"
      ],
      "text/plain": [
       "<IPython.core.display.HTML object>"
      ]
     },
     "metadata": {
      "tags": []
     },
     "output_type": "display_data"
    }
   ],
   "source": [
    "import keras\n",
    "import pandas as pd\n",
    "import tensorflow as tf\n",
    "import numpy as np\n",
    "import matplotlib.pyplot as plt\n",
    "from keras.preprocessing import image\n",
    "from keras.preprocessing.image import ImageDataGenerator\n",
    "from keras.utils import np_utils"
   ]
  },
  {
   "cell_type": "code",
   "execution_count": 0,
   "metadata": {
    "colab": {},
    "colab_type": "code",
    "id": "SYcQnjxg_ysY"
   },
   "outputs": [],
   "source": [
    "data_train=pd.read_csv('/content/drive/My Drive/fer2013_train_new1.csv')\n",
    "data_test=pd.read_csv('/content/drive/My Drive/fer2013_test_new1.csv')"
   ]
  },
  {
   "cell_type": "code",
   "execution_count": 0,
   "metadata": {
    "colab": {},
    "colab_type": "code",
    "id": "XrqFgQN07ymx"
   },
   "outputs": [],
   "source": [
    "classdist=data_train['emotion'].value_counts()"
   ]
  },
  {
   "cell_type": "code",
   "execution_count": 0,
   "metadata": {
    "colab": {
     "base_uri": "https://localhost:8080/",
     "height": 156
    },
    "colab_type": "code",
    "executionInfo": {
     "elapsed": 1234,
     "status": "ok",
     "timestamp": 1582657756442,
     "user": {
      "displayName": "VISHAL PATIL",
      "photoUrl": "https://lh3.googleusercontent.com/a-/AAuE7mBP_mBGErnznHqgGOCMji_Vduvj-Z9Oq7CJzoEH=s64",
      "userId": "05327237884246247525"
     },
     "user_tz": -330
    },
    "id": "rFTx-iPzCoYP",
    "outputId": "9e3d6e21-1e5f-4d09-f692-4cdcb8230ff1"
   },
   "outputs": [
    {
     "data": {
      "text/plain": [
       "3    5886\n",
       "6    2984\n",
       "5    2439\n",
       "0    2166\n",
       "4    1987\n",
       "2     839\n",
       "1     443\n",
       "Name: emotion, dtype: int64"
      ]
     },
     "execution_count": 5,
     "metadata": {
      "tags": []
     },
     "output_type": "execute_result"
    }
   ],
   "source": [
    "#classdistribution in train data\n",
    "classdist"
   ]
  },
  {
   "cell_type": "code",
   "execution_count": 0,
   "metadata": {
    "colab": {
     "base_uri": "https://localhost:8080/",
     "height": 300
    },
    "colab_type": "code",
    "executionInfo": {
     "elapsed": 2199,
     "status": "ok",
     "timestamp": 1582657769497,
     "user": {
      "displayName": "VISHAL PATIL",
      "photoUrl": "https://lh3.googleusercontent.com/a-/AAuE7mBP_mBGErnznHqgGOCMji_Vduvj-Z9Oq7CJzoEH=s64",
      "userId": "05327237884246247525"
     },
     "user_tz": -330
    },
    "id": "YSF4xhZE_vLz",
    "outputId": "a035d3b2-b4c2-4b1a-8a4f-cc3d194dd447"
   },
   "outputs": [
    {
     "data": {
      "text/plain": [
       "<matplotlib.axes._subplots.AxesSubplot at 0x7f6692f5dcf8>"
      ]
     },
     "execution_count": 6,
     "metadata": {
      "tags": []
     },
     "output_type": "execute_result"
    },
    {
     "data": {
      "image/png": "[encoded data removed]",
      "text/plain": [
       "<Figure size 432x288 with 1 Axes>"
      ]
     },
     "metadata": {
      "tags": []
     },
     "output_type": "display_data"
    }
   ],
   "source": [
    "classdist. plot(kind='bar')"
   ]
  },
  {
   "cell_type": "code",
   "execution_count": 0,
   "metadata": {
    "colab": {},
    "colab_type": "code",
    "id": "pMydYLEwASiL"
   },
   "outputs": [],
   "source": [
    "classdist1=data_test['emotion'].value_counts()"
   ]
  },
  {
   "cell_type": "code",
   "execution_count": 0,
   "metadata": {
    "colab": {
     "base_uri": "https://localhost:8080/",
     "height": 156
    },
    "colab_type": "code",
    "executionInfo": {
     "elapsed": 1264,
     "status": "ok",
     "timestamp": 1582657798040,
     "user": {
      "displayName": "VISHAL PATIL",
      "photoUrl": "https://lh3.googleusercontent.com/a-/AAuE7mBP_mBGErnznHqgGOCMji_Vduvj-Z9Oq7CJzoEH=s64",
      "userId": "05327237884246247525"
     },
     "user_tz": -330
    },
    "id": "5e8aNvZnDM4Z",
    "outputId": "0474da07-3c1c-4bf5-9807-d58d19ff1164"
   },
   "outputs": [
    {
     "data": {
      "text/plain": [
       "3    1441\n",
       "6     747\n",
       "5     657\n",
       "0     508\n",
       "4     485\n",
       "2     217\n",
       "1      89\n",
       "Name: emotion, dtype: int64"
      ]
     },
     "execution_count": 8,
     "metadata": {
      "tags": []
     },
     "output_type": "execute_result"
    }
   ],
   "source": [
    "#class distribution in test data\n",
    "classdist1"
   ]
  },
  {
   "cell_type": "code",
   "execution_count": 0,
   "metadata": {
    "colab": {
     "base_uri": "https://localhost:8080/",
     "height": 300
    },
    "colab_type": "code",
    "executionInfo": {
     "elapsed": 2372,
     "status": "ok",
     "timestamp": 1582657803391,
     "user": {
      "displayName": "VISHAL PATIL",
      "photoUrl": "https://lh3.googleusercontent.com/a-/AAuE7mBP_mBGErnznHqgGOCMji_Vduvj-Z9Oq7CJzoEH=s64",
      "userId": "05327237884246247525"
     },
     "user_tz": -330
    },
    "id": "Go5HSV7kAbg4",
    "outputId": "8951a4fe-5be4-448a-f3dc-5680a7cafd2f"
   },
   "outputs": [
    {
     "data": {
      "text/plain": [
       "<matplotlib.axes._subplots.AxesSubplot at 0x7f6692e94630>"
      ]
     },
     "execution_count": 9,
     "metadata": {
      "tags": []
     },
     "output_type": "execute_result"
    },
    {
     "data": {
      "image/png": "[encoded data removed]",
      "text/plain": [
       "<Figure size 432x288 with 1 Axes>"
      ]
     },
     "metadata": {
      "tags": []
     },
     "output_type": "display_data"
    }
   ],
   "source": [
    "classdist1.plot(kind=\"bar\")"
   ]
  },
  {
   "cell_type": "code",
   "execution_count": 0,
   "metadata": {
    "colab": {
     "base_uri": "https://localhost:8080/",
     "height": 156
    },
    "colab_type": "code",
    "executionInfo": {
     "elapsed": 1264,
     "status": "ok",
     "timestamp": 1582657808621,
     "user": {
      "displayName": "VISHAL PATIL",
      "photoUrl": "https://lh3.googleusercontent.com/a-/AAuE7mBP_mBGErnznHqgGOCMji_Vduvj-Z9Oq7CJzoEH=s64",
      "userId": "05327237884246247525"
     },
     "user_tz": -330
    },
    "id": "s-0TV_J-2XRf",
    "outputId": "25278aa5-f3b3-463a-b517-6c81041fd5b1"
   },
   "outputs": [
    {
     "name": "stdout",
     "output_type": "stream",
     "text": [
      "<class 'pandas.core.frame.DataFrame'>\n",
      "RangeIndex: 16744 entries, 0 to 16743\n",
      "Data columns (total 3 columns):\n",
      "emotion    16744 non-null int64\n",
      "Usage1     16744 non-null object\n",
      "pixels1    16744 non-null object\n",
      "dtypes: int64(1), object(2)\n",
      "memory usage: 392.6+ KB\n"
     ]
    }
   ],
   "source": [
    "data_train.info()"
   ]
  },
  {
   "cell_type": "code",
   "execution_count": 0,
   "metadata": {
    "colab": {
     "base_uri": "https://localhost:8080/",
     "height": 173
    },
    "colab_type": "code",
    "executionInfo": {
     "elapsed": 1185,
     "status": "ok",
     "timestamp": 1582657818464,
     "user": {
      "displayName": "VISHAL PATIL",
      "photoUrl": "https://lh3.googleusercontent.com/a-/AAuE7mBP_mBGErnznHqgGOCMji_Vduvj-Z9Oq7CJzoEH=s64",
      "userId": "05327237884246247525"
     },
     "user_tz": -330
    },
    "id": "TOPUIVCZ2boz",
    "outputId": "5049a1f8-0361-451e-d015-d347b40dc8d5"
   },
   "outputs": [
    {
     "name": "stdout",
     "output_type": "stream",
     "text": [
      "<class 'pandas.core.frame.DataFrame'>\n",
      "RangeIndex: 4144 entries, 0 to 4143\n",
      "Data columns (total 4 columns):\n",
      "Unnamed: 0    4059 non-null float64\n",
      "emotion       4144 non-null int64\n",
      "Usage1        4144 non-null object\n",
      "pixels1       4144 non-null object\n",
      "dtypes: float64(1), int64(1), object(2)\n",
      "memory usage: 129.6+ KB\n"
     ]
    }
   ],
   "source": [
    "data_test.info()"
   ]
  },
  {
   "cell_type": "code",
   "execution_count": 0,
   "metadata": {
    "colab": {},
    "colab_type": "code",
    "id": "QolqF--S36xI"
   },
   "outputs": [],
   "source": [
    "# x_train\n",
    "b=[]\n",
    "import numpy as np\n",
    "for index ,row in data_train.iterrows():\n",
    "    val=row['pixels1'].split(\" \")\n",
    "    for i in val:\n",
    "        a=int(i)\n",
    "        b.append(a)\n",
    "arr=np.array(b,'float32')\n",
    "x_train=arr.reshape(16744,2304)"
   ]
  },
  {
   "cell_type": "code",
   "execution_count": 0,
   "metadata": {
    "colab": {},
    "colab_type": "code",
    "id": "tMPZjdm336xf"
   },
   "outputs": [],
   "source": [
    "# x_test\n",
    "b=[]\n",
    "for index ,row in data_test.iterrows():\n",
    "    val=row['pixels1'].split(\" \")\n",
    "    for i in val:\n",
    "        a=int(i)\n",
    "        b.append(a)\n",
    "arr=np.array(b,'float32')\n",
    "x_test=arr.reshape(4144,2304)"
   ]
  },
  {
   "cell_type": "code",
   "execution_count": 0,
   "metadata": {
    "colab": {},
    "colab_type": "code",
    "id": "NixBZJPt36x6"
   },
   "outputs": [],
   "source": [
    "#y_train\n",
    "y_train=np.array(data_train['emotion'].tolist(),'float32')"
   ]
  },
  {
   "cell_type": "code",
   "execution_count": 0,
   "metadata": {
    "colab": {},
    "colab_type": "code",
    "id": "l7mCQzi_36yS"
   },
   "outputs": [],
   "source": [
    "# y_test\n",
    "y_test=np.array(data_test['emotion'].tolist(),'float32')"
   ]
  },
  {
   "cell_type": "code",
   "execution_count": 0,
   "metadata": {
    "colab": {},
    "colab_type": "code",
    "id": "oB3XaKC036ys"
   },
   "outputs": [],
   "source": [
    "# reshape \n",
    "x_train = x_train.reshape(x_train.shape[0], 48, 48, 1)\n",
    "x_train = x_train.astype('float32')\n",
    "x_test = x_test.reshape(x_test.shape[0], 48, 48, 1)\n",
    "x_test = x_test.astype('float32')"
   ]
  },
  {
   "cell_type": "code",
   "execution_count": 0,
   "metadata": {
    "colab": {},
    "colab_type": "code",
    "id": "M-ojXr6l36zE"
   },
   "outputs": [],
   "source": [
    "# One hot code\n",
    "y_train=np_utils.to_categorical(y_train,num_classes=7)\n",
    "y_test=np_utils.to_categorical(y_test,num_classes=7)"
   ]
  },
  {
   "cell_type": "code",
   "execution_count": 0,
   "metadata": {
    "colab": {},
    "colab_type": "code",
    "id": "rwUM7sti36zf"
   },
   "outputs": [],
   "source": [
    "# normalize\n",
    "x_train /= 255\n",
    "x_test /= 255"
   ]
  },
  {
   "cell_type": "code",
   "execution_count": 0,
   "metadata": {
    "colab": {},
    "colab_type": "code",
    "id": "DoiE4Zp_s_Im"
   },
   "outputs": [],
   "source": [
    "import keras,os\n",
    "from keras.models import Sequential\n",
    "from keras.layers import Dense, Conv2D, MaxPool2D , Flatten\n",
    "from keras.preprocessing.image import ImageDataGenerator\n",
    "import numpy as np"
   ]
  },
  {
   "cell_type": "code",
   "execution_count": 13,
   "metadata": {
    "colab": {
     "base_uri": "https://localhost:8080/",
     "height": 173
    },
    "colab_type": "code",
    "executionInfo": {
     "elapsed": 1018,
     "status": "ok",
     "timestamp": 1582735338150,
     "user": {
      "displayName": "VISHAL PATIL",
      "photoUrl": "https://lh3.googleusercontent.com/a-/AAuE7mBP_mBGErnznHqgGOCMji_Vduvj-Z9Oq7CJzoEH=s64",
      "userId": "05327237884246247525"
     },
     "user_tz": -330
    },
    "id": "uIr2sziJ36zy",
    "outputId": "77fc00c8-62fb-4d4c-bc9d-53ec20127a89"
   },
   "outputs": [
    {
     "name": "stdout",
     "output_type": "stream",
     "text": [
      "WARNING:tensorflow:From /usr/local/lib/python3.6/dist-packages/keras/backend/tensorflow_backend.py:66: The name tf.get_default_graph is deprecated. Please use tf.compat.v1.get_default_graph instead.\n",
      "\n",
      "WARNING:tensorflow:From /usr/local/lib/python3.6/dist-packages/keras/backend/tensorflow_backend.py:541: The name tf.placeholder is deprecated. Please use tf.compat.v1.placeholder instead.\n",
      "\n",
      "WARNING:tensorflow:From /usr/local/lib/python3.6/dist-packages/keras/backend/tensorflow_backend.py:4432: The name tf.random_uniform is deprecated. Please use tf.random.uniform instead.\n",
      "\n",
      "WARNING:tensorflow:From /usr/local/lib/python3.6/dist-packages/keras/backend/tensorflow_backend.py:4267: The name tf.nn.max_pool is deprecated. Please use tf.nn.max_pool2d instead.\n",
      "\n"
     ]
    }
   ],
   "source": [
    "model = Sequential()\n",
    "model.add(Conv2D(input_shape=(48,48,1),filters=64,kernel_size=(3,3),padding=\"same\", activation=\"relu\"))\n",
    "model.add(MaxPool2D(pool_size=(5,5),strides=(5,5)))\n",
    "model.add(Conv2D(filters=64,kernel_size=(3,3),padding=\"same\", activation=\"relu\"))\n",
    "model.add(Conv2D(filters=64,kernel_size=(3,3),padding=\"same\", activation=\"relu\"))\n",
    "model.add(MaxPool2D(pool_size=(3,3),strides=(2,2)))\n",
    "model.add(Conv2D(filters=128, kernel_size=(3,3),padding=\"same\", activation=\"relu\"))\n",
    "model.add(Conv2D(filters=128, kernel_size=(3,3),padding=\"same\", activation=\"relu\"))\n",
    "model.add(MaxPool2D(pool_size=(3,3),strides=(2,2)))\n",
    "model.add(Flatten())\n",
    "model.add(Dense(units=1024,activation=\"relu\"))\n",
    "model.add(Dense(units=1024,activation=\"relu\"))\n",
    "model.add(Dense(units=7, activation=\"softmax\"))"
   ]
  },
  {
   "cell_type": "code",
   "execution_count": 14,
   "metadata": {
    "colab": {
     "base_uri": "https://localhost:8080/",
     "height": 561
    },
    "colab_type": "code",
    "executionInfo": {
     "elapsed": 1085,
     "status": "ok",
     "timestamp": 1582735341204,
     "user": {
      "displayName": "VISHAL PATIL",
      "photoUrl": "https://lh3.googleusercontent.com/a-/AAuE7mBP_mBGErnznHqgGOCMji_Vduvj-Z9Oq7CJzoEH=s64",
      "userId": "05327237884246247525"
     },
     "user_tz": -330
    },
    "id": "QunHGf0RCbxe",
    "outputId": "d16ddb56-d664-4d9c-80e7-4c71bda51c00"
   },
   "outputs": [
    {
     "name": "stdout",
     "output_type": "stream",
     "text": [
      "Model: \"sequential_1\"\n",
      "_________________________________________________________________\n",
      "Layer (type)                 Output Shape              Param #   \n",
      "=================================================================\n",
      "conv2d_1 (Conv2D)            (None, 48, 48, 64)        640       \n",
      "_________________________________________________________________\n",
      "max_pooling2d_1 (MaxPooling2 (None, 9, 9, 64)          0         \n",
      "_________________________________________________________________\n",
      "conv2d_2 (Conv2D)            (None, 9, 9, 64)          36928     \n",
      "_________________________________________________________________\n",
      "conv2d_3 (Conv2D)            (None, 9, 9, 64)          36928     \n",
      "_________________________________________________________________\n",
      "max_pooling2d_2 (MaxPooling2 (None, 4, 4, 64)          0         \n",
      "_________________________________________________________________\n",
      "conv2d_4 (Conv2D)            (None, 4, 4, 128)         73856     \n",
      "_________________________________________________________________\n",
      "conv2d_5 (Conv2D)            (None, 4, 4, 128)         147584    \n",
      "_________________________________________________________________\n",
      "max_pooling2d_3 (MaxPooling2 (None, 1, 1, 128)         0         \n",
      "_________________________________________________________________\n",
      "flatten_1 (Flatten)          (None, 128)               0         \n",
      "_________________________________________________________________\n",
      "dense_1 (Dense)              (None, 1024)              132096    \n",
      "_________________________________________________________________\n",
      "dense_2 (Dense)              (None, 1024)              1049600   \n",
      "_________________________________________________________________\n",
      "dense_3 (Dense)              (None, 7)                 7175      \n",
      "=================================================================\n",
      "Total params: 1,484,807\n",
      "Trainable params: 1,484,807\n",
      "Non-trainable params: 0\n",
      "_________________________________________________________________\n"
     ]
    }
   ],
   "source": [
    "model.summary()"
   ]
  },
  {
   "cell_type": "code",
   "execution_count": 0,
   "metadata": {
    "colab": {},
    "colab_type": "code",
    "id": "W3nx_qWM360M"
   },
   "outputs": [],
   "source": [
    "gen = ImageDataGenerator()\n",
    "train_generator = gen.flow(x_train, y_train, batch_size=256)"
   ]
  },
  {
   "cell_type": "code",
   "execution_count": 0,
   "metadata": {
    "colab": {},
    "colab_type": "code",
    "id": "yJXNyXgJ360f"
   },
   "outputs": [],
   "source": [
    "#from keras.optimizers import Adam \n",
    "#opt=Adam(lr=0.001)"
   ]
  },
  {
   "cell_type": "code",
   "execution_count": 16,
   "metadata": {
    "colab": {
     "base_uri": "https://localhost:8080/",
     "height": 85
    },
    "colab_type": "code",
    "executionInfo": {
     "elapsed": 1024,
     "status": "ok",
     "timestamp": 1582735361557,
     "user": {
      "displayName": "VISHAL PATIL",
      "photoUrl": "https://lh3.googleusercontent.com/a-/AAuE7mBP_mBGErnznHqgGOCMji_Vduvj-Z9Oq7CJzoEH=s64",
      "userId": "05327237884246247525"
     },
     "user_tz": -330
    },
    "id": "U2Rt6WyI360u",
    "outputId": "72dd596b-a403-45db-9d83-a893ee37af9e"
   },
   "outputs": [
    {
     "name": "stdout",
     "output_type": "stream",
     "text": [
      "WARNING:tensorflow:From /usr/local/lib/python3.6/dist-packages/keras/optimizers.py:793: The name tf.train.Optimizer is deprecated. Please use tf.compat.v1.train.Optimizer instead.\n",
      "\n",
      "WARNING:tensorflow:From /usr/local/lib/python3.6/dist-packages/keras/backend/tensorflow_backend.py:3576: The name tf.log is deprecated. Please use tf.math.log instead.\n",
      "\n"
     ]
    }
   ],
   "source": [
    "model.compile(loss='categorical_crossentropy', optimizer='adam', metrics=['accuracy'])"
   ]
  },
  {
   "cell_type": "code",
   "execution_count": 17,
   "metadata": {
    "colab": {
     "base_uri": "https://localhost:8080/",
     "height": 1000
    },
    "colab_type": "code",
    "executionInfo": {
     "elapsed": 196972,
     "status": "ok",
     "timestamp": 1582735559186,
     "user": {
      "displayName": "VISHAL PATIL",
      "photoUrl": "https://lh3.googleusercontent.com/a-/AAuE7mBP_mBGErnznHqgGOCMji_Vduvj-Z9Oq7CJzoEH=s64",
      "userId": "05327237884246247525"
     },
     "user_tz": -330
    },
    "id": "IKqS1pld361A",
    "outputId": "9d77b3ef-42a5-4cfa-a798-66d040817f07"
   },
   "outputs": [
    {
     "name": "stdout",
     "output_type": "stream",
     "text": [
      "WARNING:tensorflow:From /usr/local/lib/python3.6/dist-packages/tensorflow_core/python/ops/math_grad.py:1424: where (from tensorflow.python.ops.array_ops) is deprecated and will be removed in a future version.\n",
      "Instructions for updating:\n",
      "Use tf.where in 2.0, which has the same broadcast rule as np.where\n",
      "WARNING:tensorflow:From /usr/local/lib/python3.6/dist-packages/keras/backend/tensorflow_backend.py:1033: The name tf.assign_add is deprecated. Please use tf.compat.v1.assign_add instead.\n",
      "\n",
      "WARNING:tensorflow:From /usr/local/lib/python3.6/dist-packages/keras/backend/tensorflow_backend.py:1020: The name tf.assign is deprecated. Please use tf.compat.v1.assign instead.\n",
      "\n",
      "WARNING:tensorflow:From /usr/local/lib/python3.6/dist-packages/keras/backend/tensorflow_backend.py:3005: The name tf.Session is deprecated. Please use tf.compat.v1.Session instead.\n",
      "\n",
      "Epoch 1/30\n",
      "WARNING:tensorflow:From /usr/local/lib/python3.6/dist-packages/keras/backend/tensorflow_backend.py:190: The name tf.get_default_session is deprecated. Please use tf.compat.v1.get_default_session instead.\n",
      "\n",
      "WARNING:tensorflow:From /usr/local/lib/python3.6/dist-packages/keras/backend/tensorflow_backend.py:197: The name tf.ConfigProto is deprecated. Please use tf.compat.v1.ConfigProto instead.\n",
      "\n",
      "WARNING:tensorflow:From /usr/local/lib/python3.6/dist-packages/keras/backend/tensorflow_backend.py:207: The name tf.global_variables is deprecated. Please use tf.compat.v1.global_variables instead.\n",
      "\n",
      "WARNING:tensorflow:From /usr/local/lib/python3.6/dist-packages/keras/backend/tensorflow_backend.py:216: The name tf.is_variable_initialized is deprecated. Please use tf.compat.v1.is_variable_initialized instead.\n",
      "\n",
      "WARNING:tensorflow:From /usr/local/lib/python3.6/dist-packages/keras/backend/tensorflow_backend.py:223: The name tf.variables_initializer is deprecated. Please use tf.compat.v1.variables_initializer instead.\n",
      "\n",
      "256/256 [==============================] - 22s 85ms/step - loss: 1.4046 - acc: 0.4798 - val_loss: 0.9114 - val_acc: 0.6728\n",
      "Epoch 2/30\n",
      "256/256 [==============================] - 6s 23ms/step - loss: 0.6983 - acc: 0.7532 - val_loss: 0.7884 - val_acc: 0.7268\n",
      "Epoch 3/30\n",
      "256/256 [==============================] - 6s 23ms/step - loss: 0.4083 - acc: 0.8568 - val_loss: 0.6916 - val_acc: 0.7770\n",
      "Epoch 4/30\n",
      "256/256 [==============================] - 6s 23ms/step - loss: 0.2378 - acc: 0.9178 - val_loss: 0.7110 - val_acc: 0.8190\n",
      "Epoch 5/30\n",
      "256/256 [==============================] - 6s 23ms/step - loss: 0.1254 - acc: 0.9562 - val_loss: 0.9088 - val_acc: 0.7990\n",
      "Epoch 6/30\n",
      "256/256 [==============================] - 6s 23ms/step - loss: 0.0767 - acc: 0.9732 - val_loss: 0.9692 - val_acc: 0.8263\n",
      "Epoch 7/30\n",
      "256/256 [==============================] - 6s 23ms/step - loss: 0.0604 - acc: 0.9792 - val_loss: 0.9922 - val_acc: 0.8193\n",
      "Epoch 8/30\n",
      "256/256 [==============================] - 6s 24ms/step - loss: 0.0430 - acc: 0.9848 - val_loss: 1.0387 - val_acc: 0.8209\n",
      "Epoch 9/30\n",
      "256/256 [==============================] - 6s 23ms/step - loss: 0.0399 - acc: 0.9856 - val_loss: 1.1258 - val_acc: 0.8178\n",
      "Epoch 10/30\n",
      "256/256 [==============================] - 6s 24ms/step - loss: 0.0338 - acc: 0.9883 - val_loss: 1.1241 - val_acc: 0.8142\n",
      "Epoch 11/30\n",
      "256/256 [==============================] - 6s 24ms/step - loss: 0.0340 - acc: 0.9883 - val_loss: 1.2255 - val_acc: 0.8118\n",
      "Epoch 12/30\n",
      "256/256 [==============================] - 6s 24ms/step - loss: 0.0317 - acc: 0.9894 - val_loss: 1.1725 - val_acc: 0.8168\n",
      "Epoch 13/30\n",
      "256/256 [==============================] - 6s 24ms/step - loss: 0.0310 - acc: 0.9895 - val_loss: 1.0863 - val_acc: 0.8190\n",
      "Epoch 14/30\n",
      "256/256 [==============================] - 6s 24ms/step - loss: 0.0271 - acc: 0.9909 - val_loss: 0.9830 - val_acc: 0.8185\n",
      "Epoch 15/30\n",
      "256/256 [==============================] - 6s 24ms/step - loss: 0.0223 - acc: 0.9926 - val_loss: 1.1229 - val_acc: 0.8229\n",
      "Epoch 16/30\n",
      "256/256 [==============================] - 6s 24ms/step - loss: 0.0326 - acc: 0.9889 - val_loss: 1.1324 - val_acc: 0.8200\n",
      "Epoch 17/30\n",
      "256/256 [==============================] - 6s 23ms/step - loss: 0.0216 - acc: 0.9929 - val_loss: 1.1470 - val_acc: 0.8115\n",
      "Epoch 18/30\n",
      "256/256 [==============================] - 6s 24ms/step - loss: 0.0248 - acc: 0.9919 - val_loss: 1.1839 - val_acc: 0.8248\n",
      "Epoch 19/30\n",
      "256/256 [==============================] - 6s 24ms/step - loss: 0.0192 - acc: 0.9937 - val_loss: 1.2834 - val_acc: 0.8253\n",
      "Epoch 20/30\n",
      "256/256 [==============================] - 6s 23ms/step - loss: 0.0274 - acc: 0.9907 - val_loss: 1.0822 - val_acc: 0.8222\n",
      "Epoch 21/30\n",
      "256/256 [==============================] - 6s 23ms/step - loss: 0.0136 - acc: 0.9957 - val_loss: 1.2630 - val_acc: 0.8234\n",
      "Epoch 22/30\n",
      "256/256 [==============================] - 6s 24ms/step - loss: 0.0276 - acc: 0.9905 - val_loss: 1.1863 - val_acc: 0.8159\n",
      "Epoch 23/30\n",
      "256/256 [==============================] - 6s 24ms/step - loss: 0.0176 - acc: 0.9941 - val_loss: 1.3194 - val_acc: 0.8255\n",
      "Epoch 24/30\n",
      "256/256 [==============================] - 6s 23ms/step - loss: 0.0156 - acc: 0.9950 - val_loss: 1.2145 - val_acc: 0.8234\n",
      "Epoch 25/30\n",
      "256/256 [==============================] - 6s 23ms/step - loss: 0.0223 - acc: 0.9929 - val_loss: 1.3061 - val_acc: 0.8048\n",
      "Epoch 26/30\n",
      "256/256 [==============================] - 6s 23ms/step - loss: 0.0220 - acc: 0.9927 - val_loss: 1.2660 - val_acc: 0.8209\n",
      "Epoch 27/30\n",
      "256/256 [==============================] - 6s 23ms/step - loss: 0.0138 - acc: 0.9954 - val_loss: 1.3764 - val_acc: 0.8135\n",
      "Epoch 28/30\n",
      "256/256 [==============================] - 6s 24ms/step - loss: 0.0177 - acc: 0.9940 - val_loss: 1.2805 - val_acc: 0.8234\n",
      "Epoch 29/30\n",
      "256/256 [==============================] - 6s 24ms/step - loss: 0.0170 - acc: 0.9948 - val_loss: 1.3584 - val_acc: 0.8113\n",
      "Epoch 30/30\n",
      "256/256 [==============================] - 6s 23ms/step - loss: 0.0169 - acc: 0.9944 - val_loss: 1.2528 - val_acc: 0.8195\n"
     ]
    }
   ],
   "source": [
    "hist=model.fit_generator(train_generator, steps_per_epoch=256, epochs=30,validation_data=(x_test,y_test)) "
   ]
  },
  {
   "cell_type": "code",
   "execution_count": 0,
   "metadata": {
    "colab": {},
    "colab_type": "code",
    "id": "SJBP8mjS361S"
   },
   "outputs": [],
   "source": [
    "train_loss=hist.history['loss']\n",
    "test_loss=hist.history['val_loss']"
   ]
  },
  {
   "cell_type": "code",
   "execution_count": 0,
   "metadata": {
    "colab": {},
    "colab_type": "code",
    "id": "cyIiObYqEHuw"
   },
   "outputs": [],
   "source": [
    "epoches=range(1,31)"
   ]
  },
  {
   "cell_type": "code",
   "execution_count": 20,
   "metadata": {
    "colab": {
     "base_uri": "https://localhost:8080/",
     "height": 304
    },
    "colab_type": "code",
    "executionInfo": {
     "elapsed": 1732,
     "status": "ok",
     "timestamp": 1582735585576,
     "user": {
      "displayName": "VISHAL PATIL",
      "photoUrl": "https://lh3.googleusercontent.com/a-/AAuE7mBP_mBGErnznHqgGOCMji_Vduvj-Z9Oq7CJzoEH=s64",
      "userId": "05327237884246247525"
     },
     "user_tz": -330
    },
    "id": "abr3iwvR361k",
    "outputId": "060029d9-4dea-48ac-e0af-824c1f7884f3"
   },
   "outputs": [
    {
     "data": {
      "image/png": "[encoded data removed]",
      "text/plain": [
       "<Figure size 432x288 with 1 Axes>"
      ]
     },
     "metadata": {
      "tags": []
     },
     "output_type": "display_data"
    }
   ],
   "source": [
    "import matplotlib.pyplot as plt\n",
    "plt.style.use('fivethirtyeight')\n",
    "plt.plot(epoches,train_loss,\"r--\")\n",
    "plt.plot(epoches,test_loss,\"b-\")\n",
    "plt.legend([\"Traning Loss :\",\"Test Loss\"])\n",
    "plt.xlabel(\"Epoch\")\n",
    "plt.ylabel(\"Loss\")\n",
    "plt.show()"
   ]
  },
  {
   "cell_type": "code",
   "execution_count": 0,
   "metadata": {
    "colab": {},
    "colab_type": "code",
    "id": "_tvapike3614"
   },
   "outputs": [],
   "source": [
    "train_acc=hist.history['acc']\n",
    "test_acc=hist.history['val_acc']"
   ]
  },
  {
   "cell_type": "code",
   "execution_count": 22,
   "metadata": {
    "colab": {
     "base_uri": "https://localhost:8080/",
     "height": 304
    },
    "colab_type": "code",
    "executionInfo": {
     "elapsed": 1631,
     "status": "ok",
     "timestamp": 1582735596010,
     "user": {
      "displayName": "VISHAL PATIL",
      "photoUrl": "https://lh3.googleusercontent.com/a-/AAuE7mBP_mBGErnznHqgGOCMji_Vduvj-Z9Oq7CJzoEH=s64",
      "userId": "05327237884246247525"
     },
     "user_tz": -330
    },
    "id": "OJqVZGo4362I",
    "outputId": "52b576a7-451f-4ccb-edab-73a649dc4682"
   },
   "outputs": [
    {
     "data": {
      "image/png": "[encoded data removed]",
      "text/plain": [
       "<Figure size 432x288 with 1 Axes>"
      ]
     },
     "metadata": {
      "tags": []
     },
     "output_type": "display_data"
    }
   ],
   "source": [
    "import matplotlib.pyplot as plt\n",
    "plt.style.use('fivethirtyeight')\n",
    "plt.plot(epoches,train_acc,\"r--\")\n",
    "plt.plot(epoches,test_acc,\"b-\")\n",
    "plt.legend([\"Traning acuracy :\",\"Test accuracy\"])\n",
    "plt.xlabel(\"Epoch\")\n",
    "plt.ylabel(\"Acuracy\")\n",
    "plt.show()"
   ]
  },
  {
   "cell_type": "code",
   "execution_count": 0,
   "metadata": {
    "colab": {},
    "colab_type": "code",
    "id": "4HuURwIT362a"
   },
   "outputs": [],
   "source": [
    "import pandas as pd\n",
    "result=pd.DataFrame({'traing loss':train_loss,'traing accuracy':train_acc,'test loss':test_loss,'test accuracy ':test_acc})"
   ]
  },
  {
   "cell_type": "code",
   "execution_count": 24,
   "metadata": {
    "colab": {
     "base_uri": "https://localhost:8080/",
     "height": 297
    },
    "colab_type": "code",
    "executionInfo": {
     "elapsed": 1225,
     "status": "ok",
     "timestamp": 1582735608507,
     "user": {
      "displayName": "VISHAL PATIL",
      "photoUrl": "https://lh3.googleusercontent.com/a-/AAuE7mBP_mBGErnznHqgGOCMji_Vduvj-Z9Oq7CJzoEH=s64",
      "userId": "05327237884246247525"
     },
     "user_tz": -330
    },
    "id": "DBA1ZyBTDff0",
    "outputId": "3ecc6b13-8881-4b27-f3ae-e8c505a95af0"
   },
   "outputs": [
    {
     "data": {
      "text/html": [
       "<div>\n",
       "<style scoped>\n",
       "    .dataframe tbody tr th:only-of-type {\n",
       "        vertical-align: middle;\n",
       "    }\n",
       "\n",
       "    .dataframe tbody tr th {\n",
       "        vertical-align: top;\n",
       "    }\n",
       "\n",
       "    .dataframe thead th {\n",
       "        text-align: right;\n",
       "    }\n",
       "</style>\n",
       "<table border=\"1\" class=\"dataframe\">\n",
       "  <thead>\n",
       "    <tr style=\"text-align: right;\">\n",
       "      <th></th>\n",
       "      <th>traing loss</th>\n",
       "      <th>traing accuracy</th>\n",
       "      <th>test loss</th>\n",
       "      <th>test accuracy</th>\n",
       "    </tr>\n",
       "  </thead>\n",
       "  <tbody>\n",
       "    <tr>\n",
       "      <th>count</th>\n",
       "      <td>30.000000</td>\n",
       "      <td>30.000000</td>\n",
       "      <td>30.000000</td>\n",
       "      <td>30.000000</td>\n",
       "    </tr>\n",
       "    <tr>\n",
       "      <th>mean</th>\n",
       "      <td>0.119474</td>\n",
       "      <td>0.957447</td>\n",
       "      <td>1.116796</td>\n",
       "      <td>0.808912</td>\n",
       "    </tr>\n",
       "    <tr>\n",
       "      <th>std</th>\n",
       "      <td>0.281510</td>\n",
       "      <td>0.103304</td>\n",
       "      <td>0.181627</td>\n",
       "      <td>0.031993</td>\n",
       "    </tr>\n",
       "    <tr>\n",
       "      <th>min</th>\n",
       "      <td>0.013617</td>\n",
       "      <td>0.479562</td>\n",
       "      <td>0.691649</td>\n",
       "      <td>0.672780</td>\n",
       "    </tr>\n",
       "    <tr>\n",
       "      <th>25%</th>\n",
       "      <td>0.019653</td>\n",
       "      <td>0.984999</td>\n",
       "      <td>1.003859</td>\n",
       "      <td>0.812198</td>\n",
       "    </tr>\n",
       "    <tr>\n",
       "      <th>50%</th>\n",
       "      <td>0.027556</td>\n",
       "      <td>0.990628</td>\n",
       "      <td>1.139714</td>\n",
       "      <td>0.819015</td>\n",
       "    </tr>\n",
       "    <tr>\n",
       "      <th>75%</th>\n",
       "      <td>0.042274</td>\n",
       "      <td>0.993516</td>\n",
       "      <td>1.260497</td>\n",
       "      <td>0.822695</td>\n",
       "    </tr>\n",
       "    <tr>\n",
       "      <th>max</th>\n",
       "      <td>1.405437</td>\n",
       "      <td>0.995734</td>\n",
       "      <td>1.376380</td>\n",
       "      <td>0.826255</td>\n",
       "    </tr>\n",
       "  </tbody>\n",
       "</table>\n",
       "</div>"
      ],
      "text/plain": [
       "       traing loss  traing accuracy  test loss  test accuracy \n",
       "count    30.000000        30.000000  30.000000       30.000000\n",
       "mean      0.119474         0.957447   1.116796        0.808912\n",
       "std       0.281510         0.103304   0.181627        0.031993\n",
       "min       0.013617         0.479562   0.691649        0.672780\n",
       "25%       0.019653         0.984999   1.003859        0.812198\n",
       "50%       0.027556         0.990628   1.139714        0.819015\n",
       "75%       0.042274         0.993516   1.260497        0.822695\n",
       "max       1.405437         0.995734   1.376380        0.826255"
      ]
     },
     "execution_count": 24,
     "metadata": {
      "tags": []
     },
     "output_type": "execute_result"
    }
   ],
   "source": [
    "result.describe()"
   ]
  },
  {
   "cell_type": "code",
   "execution_count": 0,
   "metadata": {
    "colab": {},
    "colab_type": "code",
    "id": "AkUpAuMu362x"
   },
   "outputs": [],
   "source": [
    "hist.model.save('/content/drive/My Drive/modelface_cnn_network3.h5')"
   ]
  },
  {
   "cell_type": "code",
   "execution_count": 0,
   "metadata": {
    "colab": {},
    "colab_type": "code",
    "id": "Y39_Nyax363B"
   },
   "outputs": [],
   "source": [
    "from sklearn.metrics import classification_report, confusion_matrix"
   ]
  },
  {
   "cell_type": "code",
   "execution_count": 0,
   "metadata": {
    "colab": {},
    "colab_type": "code",
    "id": "dNe_rjtU363b"
   },
   "outputs": [],
   "source": [
    "import numpy as np\n",
    "y_test_hat=hist.model.predict(x_test)\n",
    "prediction=[]\n",
    "for i in range(len(y_test)):\n",
    "    prediction.append(np.argmax(y_test_hat[i]))  \n"
   ]
  },
  {
   "cell_type": "code",
   "execution_count": 0,
   "metadata": {
    "colab": {},
    "colab_type": "code",
    "id": "YFarnpQ8Eq80"
   },
   "outputs": [],
   "source": [
    "actual=y_test=np.array(data_test['emotion'].tolist(),'float32')"
   ]
  },
  {
   "cell_type": "code",
   "execution_count": 31,
   "metadata": {
    "colab": {
     "base_uri": "https://localhost:8080/",
     "height": 136
    },
    "colab_type": "code",
    "executionInfo": {
     "elapsed": 1315,
     "status": "ok",
     "timestamp": 1582735638265,
     "user": {
      "displayName": "VISHAL PATIL",
      "photoUrl": "https://lh3.googleusercontent.com/a-/AAuE7mBP_mBGErnznHqgGOCMji_Vduvj-Z9Oq7CJzoEH=s64",
      "userId": "05327237884246247525"
     },
     "user_tz": -330
    },
    "id": "f44y_HNW363u",
    "outputId": "68e98041-e09f-4c52-af32-45ed7b08cb14"
   },
   "outputs": [
    {
     "data": {
      "text/plain": [
       "array([[ 382,   12,   10,   43,   30,    7,   24],\n",
       "       [  21,   53,    6,    3,    1,    0,    5],\n",
       "       [  16,    3,  130,   16,   23,   17,   12],\n",
       "       [  37,    8,    8, 1289,   39,   14,   46],\n",
       "       [  39,    0,   30,   36,  325,    6,   49],\n",
       "       [   4,    0,   15,    6,    4,  616,   12],\n",
       "       [  43,    2,   20,   22,   40,   19,  601]])"
      ]
     },
     "execution_count": 31,
     "metadata": {
      "tags": []
     },
     "output_type": "execute_result"
    }
   ],
   "source": [
    "confusion_matrix(actual,prediction)"
   ]
  },
  {
   "cell_type": "code",
   "execution_count": 0,
   "metadata": {
    "colab": {},
    "colab_type": "code",
    "id": "ng4KedgJ3638"
   },
   "outputs": [],
   "source": [
    "objects = ['angry', 'disgust', 'fear', 'happy', 'sad', 'surprise', 'neutral']"
   ]
  },
  {
   "cell_type": "code",
   "execution_count": 33,
   "metadata": {
    "colab": {
     "base_uri": "https://localhost:8080/",
     "height": 255
    },
    "colab_type": "code",
    "executionInfo": {
     "elapsed": 1147,
     "status": "ok",
     "timestamp": 1582735652176,
     "user": {
      "displayName": "VISHAL PATIL",
      "photoUrl": "https://lh3.googleusercontent.com/a-/AAuE7mBP_mBGErnznHqgGOCMji_Vduvj-Z9Oq7CJzoEH=s64",
      "userId": "05327237884246247525"
     },
     "user_tz": -330
    },
    "id": "L88t5QRF364M",
    "outputId": "1fab4473-c178-4b84-dfcb-7d01d8634b8e"
   },
   "outputs": [
    {
     "name": "stdout",
     "output_type": "stream",
     "text": [
      "              precision    recall  f1-score   support\n",
      "\n",
      "       angry       0.70      0.75      0.73       508\n",
      "     disgust       0.68      0.60      0.63        89\n",
      "        fear       0.59      0.60      0.60       217\n",
      "       happy       0.91      0.89      0.90      1441\n",
      "         sad       0.70      0.67      0.69       485\n",
      "    surprise       0.91      0.94      0.92       657\n",
      "     neutral       0.80      0.80      0.80       747\n",
      "\n",
      "    accuracy                           0.82      4144\n",
      "   macro avg       0.76      0.75      0.75      4144\n",
      "weighted avg       0.82      0.82      0.82      4144\n",
      "\n"
     ]
    }
   ],
   "source": [
    "print(classification_report(actual,prediction,target_names=objects))"
   ]
  },
  {
   "cell_type": "code",
   "execution_count": 0,
   "metadata": {
    "colab": {},
    "colab_type": "code",
    "id": "GE-9lMpC364f"
   },
   "outputs": [],
   "source": []
  }
 ],
 "metadata": {
  "accelerator": "GPU",
  "colab": {
   "collapsed_sections": [],
   "name": "Face_expres-new4.ipynb",
   "provenance": [
    {
     "file_id": "1LOqtX9EkzSTFYIVy2vWO5JRUXkZ287vZ",
     "timestamp": 1582723714128
    },
    {
     "file_id": "1obUUyr5nBBV81eWEJNxeLs4OYrZK-QK5",
     "timestamp": 1582652781504
    },
    {
     "file_id": "1_Miv40CIl-kNKTN8ca6C0cPQIlq8SL47",
     "timestamp": 1582513378338
    },
    {
     "file_id": "1-R6_FlPqdkFnT8QgYZmwt9gWF6xNKhQh",
     "timestamp": 1582294405662
    }
   ]
  },
  "kernelspec": {
   "display_name": "Python 3",
   "language": "python",
   "name": "python3"
  },
  "language_info": {
   "codemirror_mode": {
    "name": "ipython",
    "version": 3
   },
   "file_extension": ".py",
   "mimetype": "text/x-python",
   "name": "python",
   "nbconvert_exporter": "python",
   "pygments_lexer": "ipython3",
   "version": "3.7.5"
  }
 },
 "nbformat": 4,
 "nbformat_minor": 1
}
